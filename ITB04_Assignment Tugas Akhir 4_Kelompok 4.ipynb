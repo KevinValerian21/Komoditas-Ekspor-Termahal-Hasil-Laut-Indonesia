{
 "cells": [
  {
   "cell_type": "markdown",
   "metadata": {},
   "source": [
    "# Deskripsi Permasalahan"
   ]
  },
  {
   "cell_type": "markdown",
   "metadata": {},
   "source": [
    "Membuat sebuah model yang dapat menentukan prediksi harga kripto khususnya Ethereum 1 tahun kedepan yakni ditahun 2022. Sehingga, kita dapat mengambiil keputusan untuk membeli ataumenjual koin kripto tersebut saat ini demi mendapatkan keuntungan yang maksimal dan meminimalisir kerugian."
   ]
  },
  {
   "cell_type": "markdown",
   "metadata": {},
   "source": [
    "# Metadata"
   ]
  },
  {
   "cell_type": "markdown",
   "metadata": {},
   "source": [
    "Dataset Data Historis Ethereum - Investing.com.csv\n",
    "* 1. Tanggal    --> Catatan waktu yang dimuat dalam format tanggal/bulan/tahun\n",
    "* 2. Terakhir   --> Harga terakhir koin ethereum pada tanggal tersebut\n",
    "* 3. Pembukaan  --> Harga awal koin ethereum pada tanggal tersebut\n",
    "* 4. Tertinggi  --> Harga tertinggi yang diberikan untuk koin ethereum pada tanggal tersebut\n",
    "* 5. Terendah   --> Harga terendah yang diberikan untuk koin ethereum pada tanggal tersebut\n",
    "* 6. Vol.       --> Banyaknya orang yang sedang memiliki koin ethereum ppada tanggal tersebut\n",
    "* 7. Perubahan% --> Presentasi perubahan dari harga Pembukaan dengan harga Terakhir"
   ]
  },
  {
   "cell_type": "markdown",
   "metadata": {},
   "source": [
    "# Data Understanding"
   ]
  },
  {
   "cell_type": "code",
   "execution_count": 1,
   "metadata": {},
   "outputs": [],
   "source": [
    "#Import Library\n",
    "# import library pandas\n",
    "import pandas as pd\n",
    "\n",
    "# import library numpy\n",
    "import numpy as np\n",
    "\n",
    "# import library matplotlib\n",
    "import matplotlib.pyplot as plt\n",
    "\n",
    "# import library seaborn\n",
    "import seaborn as sns\n",
    "\n",
    "# me non aktifkan peringatan pada python dengan import warning -> 'ignore'\n",
    "import warnings\n",
    "warnings.filterwarnings(\"ignore\")"
   ]
  },
  {
   "cell_type": "code",
   "execution_count": 2,
   "metadata": {},
   "outputs": [
    {
     "data": {
      "text/html": [
       "<div>\n",
       "<style scoped>\n",
       "    .dataframe tbody tr th:only-of-type {\n",
       "        vertical-align: middle;\n",
       "    }\n",
       "\n",
       "    .dataframe tbody tr th {\n",
       "        vertical-align: top;\n",
       "    }\n",
       "\n",
       "    .dataframe thead th {\n",
       "        text-align: right;\n",
       "    }\n",
       "</style>\n",
       "<table border=\"1\" class=\"dataframe\">\n",
       "  <thead>\n",
       "    <tr style=\"text-align: right;\">\n",
       "      <th></th>\n",
       "      <th>Tanggal</th>\n",
       "      <th>Terakhir</th>\n",
       "      <th>Pembukaan</th>\n",
       "      <th>Tertinggi</th>\n",
       "      <th>Terendah</th>\n",
       "      <th>Vol.</th>\n",
       "      <th>Perubahan%</th>\n",
       "    </tr>\n",
       "  </thead>\n",
       "  <tbody>\n",
       "    <tr>\n",
       "      <th>0</th>\n",
       "      <td>02/12/2021</td>\n",
       "      <td>4.569,60</td>\n",
       "      <td>4.583,28</td>\n",
       "      <td>4.629,75</td>\n",
       "      <td>4.454,79</td>\n",
       "      <td>617,22K</td>\n",
       "      <td>-0,30%</td>\n",
       "    </tr>\n",
       "    <tr>\n",
       "      <th>1</th>\n",
       "      <td>01/12/2021</td>\n",
       "      <td>4.583,28</td>\n",
       "      <td>4.628,72</td>\n",
       "      <td>4.778,14</td>\n",
       "      <td>4.525,33</td>\n",
       "      <td>669,18K</td>\n",
       "      <td>-0,99%</td>\n",
       "    </tr>\n",
       "    <tr>\n",
       "      <th>2</th>\n",
       "      <td>30/11/2021</td>\n",
       "      <td>4.628,90</td>\n",
       "      <td>4.443,22</td>\n",
       "      <td>4.749,12</td>\n",
       "      <td>4.349,21</td>\n",
       "      <td>973,46K</td>\n",
       "      <td>4,18%</td>\n",
       "    </tr>\n",
       "    <tr>\n",
       "      <th>3</th>\n",
       "      <td>29/11/2021</td>\n",
       "      <td>4.443,22</td>\n",
       "      <td>4.296,98</td>\n",
       "      <td>4.456,82</td>\n",
       "      <td>4.280,18</td>\n",
       "      <td>532,66K</td>\n",
       "      <td>3,40%</td>\n",
       "    </tr>\n",
       "    <tr>\n",
       "      <th>4</th>\n",
       "      <td>28/11/2021</td>\n",
       "      <td>4.296,98</td>\n",
       "      <td>4.095,16</td>\n",
       "      <td>4.297,63</td>\n",
       "      <td>3.980,24</td>\n",
       "      <td>487,53K</td>\n",
       "      <td>4,94%</td>\n",
       "    </tr>\n",
       "    <tr>\n",
       "      <th>5</th>\n",
       "      <td>27/11/2021</td>\n",
       "      <td>4.094,80</td>\n",
       "      <td>4.037,06</td>\n",
       "      <td>4.183,02</td>\n",
       "      <td>4.029,06</td>\n",
       "      <td>370,73K</td>\n",
       "      <td>1,49%</td>\n",
       "    </tr>\n",
       "    <tr>\n",
       "      <th>6</th>\n",
       "      <td>26/11/2021</td>\n",
       "      <td>4.034,53</td>\n",
       "      <td>4.520,30</td>\n",
       "      <td>4.548,10</td>\n",
       "      <td>3.917,43</td>\n",
       "      <td>1,00M</td>\n",
       "      <td>-10,75%</td>\n",
       "    </tr>\n",
       "    <tr>\n",
       "      <th>7</th>\n",
       "      <td>25/11/2021</td>\n",
       "      <td>4.520,30</td>\n",
       "      <td>4.270,73</td>\n",
       "      <td>4.549,74</td>\n",
       "      <td>4.248,90</td>\n",
       "      <td>578,65K</td>\n",
       "      <td>5,77%</td>\n",
       "    </tr>\n",
       "    <tr>\n",
       "      <th>8</th>\n",
       "      <td>24/11/2021</td>\n",
       "      <td>4.273,54</td>\n",
       "      <td>4.340,23</td>\n",
       "      <td>4.372,83</td>\n",
       "      <td>4.172,19</td>\n",
       "      <td>595,96K</td>\n",
       "      <td>-1,54%</td>\n",
       "    </tr>\n",
       "    <tr>\n",
       "      <th>9</th>\n",
       "      <td>23/11/2021</td>\n",
       "      <td>4.340,23</td>\n",
       "      <td>4.086,73</td>\n",
       "      <td>4.384,75</td>\n",
       "      <td>4.064,17</td>\n",
       "      <td>684,35K</td>\n",
       "      <td>6,20%</td>\n",
       "    </tr>\n",
       "  </tbody>\n",
       "</table>\n",
       "</div>"
      ],
      "text/plain": [
       "      Tanggal  Terakhir Pembukaan Tertinggi  Terendah     Vol. Perubahan%\n",
       "0  02/12/2021  4.569,60  4.583,28  4.629,75  4.454,79  617,22K     -0,30%\n",
       "1  01/12/2021  4.583,28  4.628,72  4.778,14  4.525,33  669,18K     -0,99%\n",
       "2  30/11/2021  4.628,90  4.443,22  4.749,12  4.349,21  973,46K      4,18%\n",
       "3  29/11/2021  4.443,22  4.296,98  4.456,82  4.280,18  532,66K      3,40%\n",
       "4  28/11/2021  4.296,98  4.095,16  4.297,63  3.980,24  487,53K      4,94%\n",
       "5  27/11/2021  4.094,80  4.037,06  4.183,02  4.029,06  370,73K      1,49%\n",
       "6  26/11/2021  4.034,53  4.520,30  4.548,10  3.917,43    1,00M    -10,75%\n",
       "7  25/11/2021  4.520,30  4.270,73  4.549,74  4.248,90  578,65K      5,77%\n",
       "8  24/11/2021  4.273,54  4.340,23  4.372,83  4.172,19  595,96K     -1,54%\n",
       "9  23/11/2021  4.340,23  4.086,73  4.384,75  4.064,17  684,35K      6,20%"
      ]
     },
     "execution_count": 2,
     "metadata": {},
     "output_type": "execute_result"
    }
   ],
   "source": [
    "#Memuat dataset\n",
    "df =  pd.read_csv('Data Historis Ethereum.csv')\n",
    "#Memanggil serta menampilkan 10 data teratas dari dataset tersebut\n",
    "df.head(10)"
   ]
  },
  {
   "cell_type": "code",
   "execution_count": null,
   "metadata": {},
   "outputs": [],
   "source": []
  },
  {
   "cell_type": "code",
   "execution_count": 3,
   "metadata": {},
   "outputs": [
    {
     "name": "stdout",
     "output_type": "stream",
     "text": [
      "<class 'pandas.core.frame.DataFrame'>\n",
      "RangeIndex: 2094 entries, 0 to 2093\n",
      "Data columns (total 7 columns):\n",
      " #   Column      Non-Null Count  Dtype \n",
      "---  ------      --------------  ----- \n",
      " 0   Tanggal     2094 non-null   object\n",
      " 1   Terakhir    2094 non-null   object\n",
      " 2   Pembukaan   2094 non-null   object\n",
      " 3   Tertinggi   2094 non-null   object\n",
      " 4   Terendah    2094 non-null   object\n",
      " 5   Vol.        2094 non-null   object\n",
      " 6   Perubahan%  2094 non-null   object\n",
      "dtypes: object(7)\n",
      "memory usage: 114.6+ KB\n"
     ]
    }
   ],
   "source": [
    "#Melihat detail informasi terkain kolom yang ada dalam dataset tersebut\n",
    "df.info()"
   ]
  },
  {
   "cell_type": "markdown",
   "metadata": {},
   "source": [
    "Bentuk tipe data dari masing-masing atribut yang ada dalam dataset tersebut adalah bertipe object semuanya"
   ]
  },
  {
   "cell_type": "code",
   "execution_count": 4,
   "metadata": {},
   "outputs": [
    {
     "data": {
      "text/plain": [
       "(2094, 7)"
      ]
     },
     "execution_count": 4,
     "metadata": {},
     "output_type": "execute_result"
    }
   ],
   "source": [
    "#Melihat dimensi dataset\n",
    "df.shape"
   ]
  },
  {
   "cell_type": "markdown",
   "metadata": {},
   "source": [
    "Dataset tersebut memiliki 2094 baris data dengan 7 kolom"
   ]
  },
  {
   "cell_type": "code",
   "execution_count": 5,
   "metadata": {},
   "outputs": [
    {
     "name": "stdout",
     "output_type": "stream",
     "text": [
      "Jumlah dataset yang ada pada masing-masing atribut:\n"
     ]
    },
    {
     "data": {
      "text/plain": [
       "Tanggal       0\n",
       "Terakhir      0\n",
       "Pembukaan     0\n",
       "Tertinggi     0\n",
       "Terendah      0\n",
       "Vol.          0\n",
       "Perubahan%    0\n",
       "dtype: int64"
      ]
     },
     "execution_count": 5,
     "metadata": {},
     "output_type": "execute_result"
    }
   ],
   "source": [
    "#Melakukan pengecekan missing values terhadap dataset\n",
    "print('Jumlah dataset yang ada pada masing-masing atribut:')\n",
    "df.isna().sum()"
   ]
  },
  {
   "cell_type": "markdown",
   "metadata": {},
   "source": [
    "Tidak terdapat missing values dalam dataset tersebut"
   ]
  },
  {
   "cell_type": "code",
   "execution_count": 6,
   "metadata": {},
   "outputs": [
    {
     "data": {
      "text/html": [
       "<div>\n",
       "<style scoped>\n",
       "    .dataframe tbody tr th:only-of-type {\n",
       "        vertical-align: middle;\n",
       "    }\n",
       "\n",
       "    .dataframe tbody tr th {\n",
       "        vertical-align: top;\n",
       "    }\n",
       "\n",
       "    .dataframe thead th {\n",
       "        text-align: right;\n",
       "    }\n",
       "</style>\n",
       "<table border=\"1\" class=\"dataframe\">\n",
       "  <thead>\n",
       "    <tr style=\"text-align: right;\">\n",
       "      <th></th>\n",
       "      <th>Tanggal</th>\n",
       "      <th>Terakhir</th>\n",
       "      <th>Pembukaan</th>\n",
       "      <th>Tertinggi</th>\n",
       "      <th>Terendah</th>\n",
       "      <th>Vol.</th>\n",
       "      <th>Perubahan%</th>\n",
       "    </tr>\n",
       "  </thead>\n",
       "  <tbody>\n",
       "    <tr>\n",
       "      <th>count</th>\n",
       "      <td>2094</td>\n",
       "      <td>2094</td>\n",
       "      <td>2094</td>\n",
       "      <td>2094</td>\n",
       "      <td>2094</td>\n",
       "      <td>2094</td>\n",
       "      <td>2094</td>\n",
       "    </tr>\n",
       "    <tr>\n",
       "      <th>unique</th>\n",
       "      <td>2094</td>\n",
       "      <td>1983</td>\n",
       "      <td>1974</td>\n",
       "      <td>1976</td>\n",
       "      <td>1967</td>\n",
       "      <td>1648</td>\n",
       "      <td>1213</td>\n",
       "    </tr>\n",
       "    <tr>\n",
       "      <th>top</th>\n",
       "      <td>02/12/2021</td>\n",
       "      <td>10,16</td>\n",
       "      <td>10,16</td>\n",
       "      <td>10,16</td>\n",
       "      <td>10,16</td>\n",
       "      <td>-</td>\n",
       "      <td>0,00%</td>\n",
       "    </tr>\n",
       "    <tr>\n",
       "      <th>freq</th>\n",
       "      <td>1</td>\n",
       "      <td>9</td>\n",
       "      <td>8</td>\n",
       "      <td>7</td>\n",
       "      <td>7</td>\n",
       "      <td>8</td>\n",
       "      <td>14</td>\n",
       "    </tr>\n",
       "  </tbody>\n",
       "</table>\n",
       "</div>"
      ],
      "text/plain": [
       "           Tanggal Terakhir Pembukaan Tertinggi Terendah  Vol. Perubahan%\n",
       "count         2094     2094      2094      2094     2094  2094       2094\n",
       "unique        2094     1983      1974      1976     1967  1648       1213\n",
       "top     02/12/2021    10,16     10,16     10,16    10,16     -      0,00%\n",
       "freq             1        9         8         7        7     8         14"
      ]
     },
     "execution_count": 6,
     "metadata": {},
     "output_type": "execute_result"
    }
   ],
   "source": [
    "#Melihat deskripsi dataset secara statistik\n",
    "df.describe()"
   ]
  },
  {
   "cell_type": "markdown",
   "metadata": {},
   "source": [
    "Karena dataset tersebut memiliki kolom dengan tipe data object semuanya maka tidak dapat ditambilkan perhitungannya secara statistik. Sehingga pada tahap berikutnya yaitu Data Preparation perlu dilakukan perubahaan tipe data menjadi numerik untuk  6 kolom lainnya kecuali kolom Tanggal perlu diubah menjadi tipe Date agar dapat dilakukan pengolahan lebih lanjut"
   ]
  },
  {
   "cell_type": "markdown",
   "metadata": {},
   "source": [
    "# Data Preparation"
   ]
  },
  {
   "cell_type": "code",
   "execution_count": 7,
   "metadata": {},
   "outputs": [
    {
     "data": {
      "text/html": [
       "<div>\n",
       "<style scoped>\n",
       "    .dataframe tbody tr th:only-of-type {\n",
       "        vertical-align: middle;\n",
       "    }\n",
       "\n",
       "    .dataframe tbody tr th {\n",
       "        vertical-align: top;\n",
       "    }\n",
       "\n",
       "    .dataframe thead th {\n",
       "        text-align: right;\n",
       "    }\n",
       "</style>\n",
       "<table border=\"1\" class=\"dataframe\">\n",
       "  <thead>\n",
       "    <tr style=\"text-align: right;\">\n",
       "      <th></th>\n",
       "      <th>Tanggal</th>\n",
       "      <th>Terakhir</th>\n",
       "      <th>Pembukaan</th>\n",
       "      <th>Tertinggi</th>\n",
       "      <th>Terendah</th>\n",
       "      <th>Vol.</th>\n",
       "      <th>Perubahan%</th>\n",
       "    </tr>\n",
       "  </thead>\n",
       "  <tbody>\n",
       "    <tr>\n",
       "      <th>0</th>\n",
       "      <td>02/12/2021</td>\n",
       "      <td>4.569,60</td>\n",
       "      <td>4.583,28</td>\n",
       "      <td>4.629,75</td>\n",
       "      <td>4.454,79</td>\n",
       "      <td>617,22K</td>\n",
       "      <td>-0,30%</td>\n",
       "    </tr>\n",
       "    <tr>\n",
       "      <th>1</th>\n",
       "      <td>01/12/2021</td>\n",
       "      <td>4.583,28</td>\n",
       "      <td>4.628,72</td>\n",
       "      <td>4.778,14</td>\n",
       "      <td>4.525,33</td>\n",
       "      <td>669,18K</td>\n",
       "      <td>-0,99%</td>\n",
       "    </tr>\n",
       "    <tr>\n",
       "      <th>2</th>\n",
       "      <td>30/11/2021</td>\n",
       "      <td>4.628,90</td>\n",
       "      <td>4.443,22</td>\n",
       "      <td>4.749,12</td>\n",
       "      <td>4.349,21</td>\n",
       "      <td>973,46K</td>\n",
       "      <td>4,18%</td>\n",
       "    </tr>\n",
       "    <tr>\n",
       "      <th>3</th>\n",
       "      <td>29/11/2021</td>\n",
       "      <td>4.443,22</td>\n",
       "      <td>4.296,98</td>\n",
       "      <td>4.456,82</td>\n",
       "      <td>4.280,18</td>\n",
       "      <td>532,66K</td>\n",
       "      <td>3,40%</td>\n",
       "    </tr>\n",
       "    <tr>\n",
       "      <th>4</th>\n",
       "      <td>28/11/2021</td>\n",
       "      <td>4.296,98</td>\n",
       "      <td>4.095,16</td>\n",
       "      <td>4.297,63</td>\n",
       "      <td>3.980,24</td>\n",
       "      <td>487,53K</td>\n",
       "      <td>4,94%</td>\n",
       "    </tr>\n",
       "    <tr>\n",
       "      <th>...</th>\n",
       "      <td>...</td>\n",
       "      <td>...</td>\n",
       "      <td>...</td>\n",
       "      <td>...</td>\n",
       "      <td>...</td>\n",
       "      <td>...</td>\n",
       "      <td>...</td>\n",
       "    </tr>\n",
       "    <tr>\n",
       "      <th>2089</th>\n",
       "      <td>14/03/2016</td>\n",
       "      <td>12,50</td>\n",
       "      <td>15,07</td>\n",
       "      <td>15,07</td>\n",
       "      <td>11,40</td>\n",
       "      <td>92,18K</td>\n",
       "      <td>-17,05%</td>\n",
       "    </tr>\n",
       "    <tr>\n",
       "      <th>2090</th>\n",
       "      <td>13/03/2016</td>\n",
       "      <td>15,07</td>\n",
       "      <td>12,92</td>\n",
       "      <td>15,07</td>\n",
       "      <td>12,92</td>\n",
       "      <td>1,30K</td>\n",
       "      <td>16,64%</td>\n",
       "    </tr>\n",
       "    <tr>\n",
       "      <th>2091</th>\n",
       "      <td>12/03/2016</td>\n",
       "      <td>12,92</td>\n",
       "      <td>11,95</td>\n",
       "      <td>13,45</td>\n",
       "      <td>11,95</td>\n",
       "      <td>0,83K</td>\n",
       "      <td>8,12%</td>\n",
       "    </tr>\n",
       "    <tr>\n",
       "      <th>2092</th>\n",
       "      <td>11/03/2016</td>\n",
       "      <td>11,95</td>\n",
       "      <td>11,75</td>\n",
       "      <td>11,95</td>\n",
       "      <td>11,75</td>\n",
       "      <td>0,18K</td>\n",
       "      <td>1,70%</td>\n",
       "    </tr>\n",
       "    <tr>\n",
       "      <th>2093</th>\n",
       "      <td>10/03/2016</td>\n",
       "      <td>11,75</td>\n",
       "      <td>11,20</td>\n",
       "      <td>11,85</td>\n",
       "      <td>11,07</td>\n",
       "      <td>0,00K</td>\n",
       "      <td>4,91%</td>\n",
       "    </tr>\n",
       "  </tbody>\n",
       "</table>\n",
       "<p>2094 rows × 7 columns</p>\n",
       "</div>"
      ],
      "text/plain": [
       "         Tanggal  Terakhir Pembukaan Tertinggi  Terendah     Vol. Perubahan%\n",
       "0     02/12/2021  4.569,60  4.583,28  4.629,75  4.454,79  617,22K     -0,30%\n",
       "1     01/12/2021  4.583,28  4.628,72  4.778,14  4.525,33  669,18K     -0,99%\n",
       "2     30/11/2021  4.628,90  4.443,22  4.749,12  4.349,21  973,46K      4,18%\n",
       "3     29/11/2021  4.443,22  4.296,98  4.456,82  4.280,18  532,66K      3,40%\n",
       "4     28/11/2021  4.296,98  4.095,16  4.297,63  3.980,24  487,53K      4,94%\n",
       "...          ...       ...       ...       ...       ...      ...        ...\n",
       "2089  14/03/2016     12,50     15,07     15,07     11,40   92,18K    -17,05%\n",
       "2090  13/03/2016     15,07     12,92     15,07     12,92    1,30K     16,64%\n",
       "2091  12/03/2016     12,92     11,95     13,45     11,95    0,83K      8,12%\n",
       "2092  11/03/2016     11,95     11,75     11,95     11,75    0,18K      1,70%\n",
       "2093  10/03/2016     11,75     11,20     11,85     11,07    0,00K      4,91%\n",
       "\n",
       "[2094 rows x 7 columns]"
      ]
     },
     "execution_count": 7,
     "metadata": {},
     "output_type": "execute_result"
    }
   ],
   "source": [
    "#Memanggil kembali dataset\n",
    "df"
   ]
  },
  {
   "cell_type": "code",
   "execution_count": 8,
   "metadata": {},
   "outputs": [],
   "source": [
    "#Melakukan perubahan terhadap format bilangan dalam dataset dengan menghilangkan tanda titik (.) sebagai ribuan\n",
    "df['Terakhir'] = df['Terakhir'].str.replace('.', '')\n",
    "df['Pembukaan'] = df['Pembukaan'].str.replace('.', '')\n",
    "df['Tertinggi'] = df['Tertinggi'].str.replace('.', '')\n",
    "df['Terendah'] = df['Terendah'].str.replace('.', '')\n",
    "df['Vol.'] = df['Vol.'].str.replace(',', '')\n",
    "df['Vol.'] = df['Vol.'].str.replace('K', '0')\n",
    "df['Vol.'] = df['Vol.'].str.replace('M', '0000')\n",
    "df['Perubahan%'] = df['Perubahan%'].str.replace('%', '')"
   ]
  },
  {
   "cell_type": "code",
   "execution_count": 9,
   "metadata": {},
   "outputs": [
    {
     "data": {
      "text/html": [
       "<div>\n",
       "<style scoped>\n",
       "    .dataframe tbody tr th:only-of-type {\n",
       "        vertical-align: middle;\n",
       "    }\n",
       "\n",
       "    .dataframe tbody tr th {\n",
       "        vertical-align: top;\n",
       "    }\n",
       "\n",
       "    .dataframe thead th {\n",
       "        text-align: right;\n",
       "    }\n",
       "</style>\n",
       "<table border=\"1\" class=\"dataframe\">\n",
       "  <thead>\n",
       "    <tr style=\"text-align: right;\">\n",
       "      <th></th>\n",
       "      <th>Tanggal</th>\n",
       "      <th>Terakhir</th>\n",
       "      <th>Pembukaan</th>\n",
       "      <th>Tertinggi</th>\n",
       "      <th>Terendah</th>\n",
       "      <th>Vol.</th>\n",
       "      <th>Perubahan%</th>\n",
       "    </tr>\n",
       "  </thead>\n",
       "  <tbody>\n",
       "    <tr>\n",
       "      <th>0</th>\n",
       "      <td>02/12/2021</td>\n",
       "      <td>4569,60</td>\n",
       "      <td>4583,28</td>\n",
       "      <td>4629,75</td>\n",
       "      <td>4454,79</td>\n",
       "      <td>617220</td>\n",
       "      <td>-0,30</td>\n",
       "    </tr>\n",
       "    <tr>\n",
       "      <th>1</th>\n",
       "      <td>01/12/2021</td>\n",
       "      <td>4583,28</td>\n",
       "      <td>4628,72</td>\n",
       "      <td>4778,14</td>\n",
       "      <td>4525,33</td>\n",
       "      <td>669180</td>\n",
       "      <td>-0,99</td>\n",
       "    </tr>\n",
       "    <tr>\n",
       "      <th>2</th>\n",
       "      <td>30/11/2021</td>\n",
       "      <td>4628,90</td>\n",
       "      <td>4443,22</td>\n",
       "      <td>4749,12</td>\n",
       "      <td>4349,21</td>\n",
       "      <td>973460</td>\n",
       "      <td>4,18</td>\n",
       "    </tr>\n",
       "    <tr>\n",
       "      <th>3</th>\n",
       "      <td>29/11/2021</td>\n",
       "      <td>4443,22</td>\n",
       "      <td>4296,98</td>\n",
       "      <td>4456,82</td>\n",
       "      <td>4280,18</td>\n",
       "      <td>532660</td>\n",
       "      <td>3,40</td>\n",
       "    </tr>\n",
       "    <tr>\n",
       "      <th>4</th>\n",
       "      <td>28/11/2021</td>\n",
       "      <td>4296,98</td>\n",
       "      <td>4095,16</td>\n",
       "      <td>4297,63</td>\n",
       "      <td>3980,24</td>\n",
       "      <td>487530</td>\n",
       "      <td>4,94</td>\n",
       "    </tr>\n",
       "    <tr>\n",
       "      <th>...</th>\n",
       "      <td>...</td>\n",
       "      <td>...</td>\n",
       "      <td>...</td>\n",
       "      <td>...</td>\n",
       "      <td>...</td>\n",
       "      <td>...</td>\n",
       "      <td>...</td>\n",
       "    </tr>\n",
       "    <tr>\n",
       "      <th>2089</th>\n",
       "      <td>14/03/2016</td>\n",
       "      <td>12,50</td>\n",
       "      <td>15,07</td>\n",
       "      <td>15,07</td>\n",
       "      <td>11,40</td>\n",
       "      <td>92180</td>\n",
       "      <td>-17,05</td>\n",
       "    </tr>\n",
       "    <tr>\n",
       "      <th>2090</th>\n",
       "      <td>13/03/2016</td>\n",
       "      <td>15,07</td>\n",
       "      <td>12,92</td>\n",
       "      <td>15,07</td>\n",
       "      <td>12,92</td>\n",
       "      <td>1300</td>\n",
       "      <td>16,64</td>\n",
       "    </tr>\n",
       "    <tr>\n",
       "      <th>2091</th>\n",
       "      <td>12/03/2016</td>\n",
       "      <td>12,92</td>\n",
       "      <td>11,95</td>\n",
       "      <td>13,45</td>\n",
       "      <td>11,95</td>\n",
       "      <td>0830</td>\n",
       "      <td>8,12</td>\n",
       "    </tr>\n",
       "    <tr>\n",
       "      <th>2092</th>\n",
       "      <td>11/03/2016</td>\n",
       "      <td>11,95</td>\n",
       "      <td>11,75</td>\n",
       "      <td>11,95</td>\n",
       "      <td>11,75</td>\n",
       "      <td>0180</td>\n",
       "      <td>1,70</td>\n",
       "    </tr>\n",
       "    <tr>\n",
       "      <th>2093</th>\n",
       "      <td>10/03/2016</td>\n",
       "      <td>11,75</td>\n",
       "      <td>11,20</td>\n",
       "      <td>11,85</td>\n",
       "      <td>11,07</td>\n",
       "      <td>0000</td>\n",
       "      <td>4,91</td>\n",
       "    </tr>\n",
       "  </tbody>\n",
       "</table>\n",
       "<p>2094 rows × 7 columns</p>\n",
       "</div>"
      ],
      "text/plain": [
       "         Tanggal Terakhir Pembukaan Tertinggi Terendah    Vol. Perubahan%\n",
       "0     02/12/2021  4569,60   4583,28   4629,75  4454,79  617220      -0,30\n",
       "1     01/12/2021  4583,28   4628,72   4778,14  4525,33  669180      -0,99\n",
       "2     30/11/2021  4628,90   4443,22   4749,12  4349,21  973460       4,18\n",
       "3     29/11/2021  4443,22   4296,98   4456,82  4280,18  532660       3,40\n",
       "4     28/11/2021  4296,98   4095,16   4297,63  3980,24  487530       4,94\n",
       "...          ...      ...       ...       ...      ...     ...        ...\n",
       "2089  14/03/2016    12,50     15,07     15,07    11,40   92180     -17,05\n",
       "2090  13/03/2016    15,07     12,92     15,07    12,92    1300      16,64\n",
       "2091  12/03/2016    12,92     11,95     13,45    11,95    0830       8,12\n",
       "2092  11/03/2016    11,95     11,75     11,95    11,75    0180       1,70\n",
       "2093  10/03/2016    11,75     11,20     11,85    11,07    0000       4,91\n",
       "\n",
       "[2094 rows x 7 columns]"
      ]
     },
     "execution_count": 9,
     "metadata": {},
     "output_type": "execute_result"
    }
   ],
   "source": [
    "#Menampilkan kembali dataset setelah dilakukan perubahan format bilangan dengan menghilangkan tanda titik\n",
    "df"
   ]
  },
  {
   "cell_type": "code",
   "execution_count": 10,
   "metadata": {},
   "outputs": [],
   "source": [
    "#Melakukan perubahan terhadap format bilangan dalam dataset dengan mengganti tanda koma (,) menjadi tanda (.) supaya dapat merubah tipe data menjadi float\n",
    "df['Tanggal'] = pd.to_datetime(df['Tanggal'], format = \"%d/%m/%Y\")\n",
    "df['Terakhir'] = df['Terakhir'].str.replace(',', '.').astype(float)\n",
    "df['Pembukaan'] = df['Pembukaan'].str.replace(',', '.').astype(float)\n",
    "df['Tertinggi'] = df['Tertinggi'].str.replace(',', '.').astype(float)\n",
    "df['Terendah'] = df['Terendah'].str.replace(',', '.').astype(float)\n",
    "df['Vol.']= pd.to_numeric(df['Vol.'], errors='coerce')\n",
    "df['Perubahan%'] = df['Perubahan%'].str.replace(',', '.').astype(float)"
   ]
  },
  {
   "cell_type": "code",
   "execution_count": 11,
   "metadata": {},
   "outputs": [
    {
     "data": {
      "text/html": [
       "<div>\n",
       "<style scoped>\n",
       "    .dataframe tbody tr th:only-of-type {\n",
       "        vertical-align: middle;\n",
       "    }\n",
       "\n",
       "    .dataframe tbody tr th {\n",
       "        vertical-align: top;\n",
       "    }\n",
       "\n",
       "    .dataframe thead th {\n",
       "        text-align: right;\n",
       "    }\n",
       "</style>\n",
       "<table border=\"1\" class=\"dataframe\">\n",
       "  <thead>\n",
       "    <tr style=\"text-align: right;\">\n",
       "      <th></th>\n",
       "      <th>Tanggal</th>\n",
       "      <th>Terakhir</th>\n",
       "      <th>Pembukaan</th>\n",
       "      <th>Tertinggi</th>\n",
       "      <th>Terendah</th>\n",
       "      <th>Vol.</th>\n",
       "      <th>Perubahan%</th>\n",
       "    </tr>\n",
       "  </thead>\n",
       "  <tbody>\n",
       "    <tr>\n",
       "      <th>0</th>\n",
       "      <td>2021-12-02</td>\n",
       "      <td>4569.60</td>\n",
       "      <td>4583.28</td>\n",
       "      <td>4629.75</td>\n",
       "      <td>4454.79</td>\n",
       "      <td>617220.0</td>\n",
       "      <td>-0.30</td>\n",
       "    </tr>\n",
       "    <tr>\n",
       "      <th>1</th>\n",
       "      <td>2021-12-01</td>\n",
       "      <td>4583.28</td>\n",
       "      <td>4628.72</td>\n",
       "      <td>4778.14</td>\n",
       "      <td>4525.33</td>\n",
       "      <td>669180.0</td>\n",
       "      <td>-0.99</td>\n",
       "    </tr>\n",
       "    <tr>\n",
       "      <th>2</th>\n",
       "      <td>2021-11-30</td>\n",
       "      <td>4628.90</td>\n",
       "      <td>4443.22</td>\n",
       "      <td>4749.12</td>\n",
       "      <td>4349.21</td>\n",
       "      <td>973460.0</td>\n",
       "      <td>4.18</td>\n",
       "    </tr>\n",
       "    <tr>\n",
       "      <th>3</th>\n",
       "      <td>2021-11-29</td>\n",
       "      <td>4443.22</td>\n",
       "      <td>4296.98</td>\n",
       "      <td>4456.82</td>\n",
       "      <td>4280.18</td>\n",
       "      <td>532660.0</td>\n",
       "      <td>3.40</td>\n",
       "    </tr>\n",
       "    <tr>\n",
       "      <th>4</th>\n",
       "      <td>2021-11-28</td>\n",
       "      <td>4296.98</td>\n",
       "      <td>4095.16</td>\n",
       "      <td>4297.63</td>\n",
       "      <td>3980.24</td>\n",
       "      <td>487530.0</td>\n",
       "      <td>4.94</td>\n",
       "    </tr>\n",
       "  </tbody>\n",
       "</table>\n",
       "</div>"
      ],
      "text/plain": [
       "     Tanggal  Terakhir  Pembukaan  Tertinggi  Terendah      Vol.  Perubahan%\n",
       "0 2021-12-02   4569.60    4583.28    4629.75   4454.79  617220.0       -0.30\n",
       "1 2021-12-01   4583.28    4628.72    4778.14   4525.33  669180.0       -0.99\n",
       "2 2021-11-30   4628.90    4443.22    4749.12   4349.21  973460.0        4.18\n",
       "3 2021-11-29   4443.22    4296.98    4456.82   4280.18  532660.0        3.40\n",
       "4 2021-11-28   4296.98    4095.16    4297.63   3980.24  487530.0        4.94"
      ]
     },
     "execution_count": 11,
     "metadata": {},
     "output_type": "execute_result"
    }
   ],
   "source": [
    "#Menampilkan kembali dataset setelah dilakukan semua perubahan format bilangan beserta tipe data menjadi float\n",
    "df.head(5)"
   ]
  },
  {
   "cell_type": "code",
   "execution_count": 12,
   "metadata": {},
   "outputs": [],
   "source": [
    "#Membuat data pada atribut Perubahan% dalam bentuk format desimal tanpa tanda % dengan mengalikannya dengan 0.01\n",
    "df['Perubahan%'] = df['Perubahan%'] * 0.01"
   ]
  },
  {
   "cell_type": "code",
   "execution_count": 13,
   "metadata": {},
   "outputs": [
    {
     "data": {
      "text/html": [
       "<div>\n",
       "<style scoped>\n",
       "    .dataframe tbody tr th:only-of-type {\n",
       "        vertical-align: middle;\n",
       "    }\n",
       "\n",
       "    .dataframe tbody tr th {\n",
       "        vertical-align: top;\n",
       "    }\n",
       "\n",
       "    .dataframe thead th {\n",
       "        text-align: right;\n",
       "    }\n",
       "</style>\n",
       "<table border=\"1\" class=\"dataframe\">\n",
       "  <thead>\n",
       "    <tr style=\"text-align: right;\">\n",
       "      <th></th>\n",
       "      <th>Tanggal</th>\n",
       "      <th>Terakhir</th>\n",
       "      <th>Pembukaan</th>\n",
       "      <th>Tertinggi</th>\n",
       "      <th>Terendah</th>\n",
       "      <th>Vol.</th>\n",
       "      <th>Perubahan%</th>\n",
       "    </tr>\n",
       "  </thead>\n",
       "  <tbody>\n",
       "    <tr>\n",
       "      <th>0</th>\n",
       "      <td>2021-12-02</td>\n",
       "      <td>4569.60</td>\n",
       "      <td>4583.28</td>\n",
       "      <td>4629.75</td>\n",
       "      <td>4454.79</td>\n",
       "      <td>617220.0</td>\n",
       "      <td>-0.0030</td>\n",
       "    </tr>\n",
       "    <tr>\n",
       "      <th>1</th>\n",
       "      <td>2021-12-01</td>\n",
       "      <td>4583.28</td>\n",
       "      <td>4628.72</td>\n",
       "      <td>4778.14</td>\n",
       "      <td>4525.33</td>\n",
       "      <td>669180.0</td>\n",
       "      <td>-0.0099</td>\n",
       "    </tr>\n",
       "    <tr>\n",
       "      <th>2</th>\n",
       "      <td>2021-11-30</td>\n",
       "      <td>4628.90</td>\n",
       "      <td>4443.22</td>\n",
       "      <td>4749.12</td>\n",
       "      <td>4349.21</td>\n",
       "      <td>973460.0</td>\n",
       "      <td>0.0418</td>\n",
       "    </tr>\n",
       "    <tr>\n",
       "      <th>3</th>\n",
       "      <td>2021-11-29</td>\n",
       "      <td>4443.22</td>\n",
       "      <td>4296.98</td>\n",
       "      <td>4456.82</td>\n",
       "      <td>4280.18</td>\n",
       "      <td>532660.0</td>\n",
       "      <td>0.0340</td>\n",
       "    </tr>\n",
       "    <tr>\n",
       "      <th>4</th>\n",
       "      <td>2021-11-28</td>\n",
       "      <td>4296.98</td>\n",
       "      <td>4095.16</td>\n",
       "      <td>4297.63</td>\n",
       "      <td>3980.24</td>\n",
       "      <td>487530.0</td>\n",
       "      <td>0.0494</td>\n",
       "    </tr>\n",
       "  </tbody>\n",
       "</table>\n",
       "</div>"
      ],
      "text/plain": [
       "     Tanggal  Terakhir  Pembukaan  Tertinggi  Terendah      Vol.  Perubahan%\n",
       "0 2021-12-02   4569.60    4583.28    4629.75   4454.79  617220.0     -0.0030\n",
       "1 2021-12-01   4583.28    4628.72    4778.14   4525.33  669180.0     -0.0099\n",
       "2 2021-11-30   4628.90    4443.22    4749.12   4349.21  973460.0      0.0418\n",
       "3 2021-11-29   4443.22    4296.98    4456.82   4280.18  532660.0      0.0340\n",
       "4 2021-11-28   4296.98    4095.16    4297.63   3980.24  487530.0      0.0494"
      ]
     },
     "execution_count": 13,
     "metadata": {},
     "output_type": "execute_result"
    }
   ],
   "source": [
    "df.head(5)"
   ]
  },
  {
   "cell_type": "code",
   "execution_count": 14,
   "metadata": {},
   "outputs": [
    {
     "name": "stdout",
     "output_type": "stream",
     "text": [
      "<class 'pandas.core.frame.DataFrame'>\n",
      "RangeIndex: 2094 entries, 0 to 2093\n",
      "Data columns (total 7 columns):\n",
      " #   Column      Non-Null Count  Dtype         \n",
      "---  ------      --------------  -----         \n",
      " 0   Tanggal     2094 non-null   datetime64[ns]\n",
      " 1   Terakhir    2094 non-null   float64       \n",
      " 2   Pembukaan   2094 non-null   float64       \n",
      " 3   Tertinggi   2094 non-null   float64       \n",
      " 4   Terendah    2094 non-null   float64       \n",
      " 5   Vol.        2086 non-null   float64       \n",
      " 6   Perubahan%  2094 non-null   float64       \n",
      "dtypes: datetime64[ns](1), float64(6)\n",
      "memory usage: 114.6 KB\n"
     ]
    }
   ],
   "source": [
    "df.info()"
   ]
  },
  {
   "cell_type": "code",
   "execution_count": 15,
   "metadata": {},
   "outputs": [
    {
     "name": "stdout",
     "output_type": "stream",
     "text": [
      "Jumlah dataset yang ada pada masing-masing atribut:\n"
     ]
    },
    {
     "data": {
      "text/plain": [
       "Tanggal       0\n",
       "Terakhir      0\n",
       "Pembukaan     0\n",
       "Tertinggi     0\n",
       "Terendah      0\n",
       "Vol.          8\n",
       "Perubahan%    0\n",
       "dtype: int64"
      ]
     },
     "execution_count": 15,
     "metadata": {},
     "output_type": "execute_result"
    }
   ],
   "source": [
    "#Melakukan pengecekan missing values terhadap dataset setelah dilakukan perubaha format dan tipe data terhadap dataset\n",
    "print('Jumlah dataset yang ada pada masing-masing atribut:')\n",
    "df.isna().sum()"
   ]
  },
  {
   "cell_type": "code",
   "execution_count": 16,
   "metadata": {
    "scrolled": false
   },
   "outputs": [
    {
     "data": {
      "text/html": [
       "<div>\n",
       "<style scoped>\n",
       "    .dataframe tbody tr th:only-of-type {\n",
       "        vertical-align: middle;\n",
       "    }\n",
       "\n",
       "    .dataframe tbody tr th {\n",
       "        vertical-align: top;\n",
       "    }\n",
       "\n",
       "    .dataframe thead th {\n",
       "        text-align: right;\n",
       "    }\n",
       "</style>\n",
       "<table border=\"1\" class=\"dataframe\">\n",
       "  <thead>\n",
       "    <tr style=\"text-align: right;\">\n",
       "      <th></th>\n",
       "      <th>Tanggal</th>\n",
       "      <th>Terakhir</th>\n",
       "      <th>Pembukaan</th>\n",
       "      <th>Tertinggi</th>\n",
       "      <th>Terendah</th>\n",
       "      <th>Vol.</th>\n",
       "      <th>Perubahan%</th>\n",
       "    </tr>\n",
       "  </thead>\n",
       "  <tbody>\n",
       "    <tr>\n",
       "      <th>1467</th>\n",
       "      <td>2017-11-26</td>\n",
       "      <td>464.00</td>\n",
       "      <td>464.00</td>\n",
       "      <td>464.00</td>\n",
       "      <td>464.00</td>\n",
       "      <td>NaN</td>\n",
       "      <td>0.0</td>\n",
       "    </tr>\n",
       "    <tr>\n",
       "      <th>1941</th>\n",
       "      <td>2016-08-09</td>\n",
       "      <td>10.16</td>\n",
       "      <td>10.16</td>\n",
       "      <td>10.16</td>\n",
       "      <td>10.16</td>\n",
       "      <td>NaN</td>\n",
       "      <td>0.0</td>\n",
       "    </tr>\n",
       "    <tr>\n",
       "      <th>1942</th>\n",
       "      <td>2016-08-08</td>\n",
       "      <td>10.16</td>\n",
       "      <td>10.16</td>\n",
       "      <td>10.16</td>\n",
       "      <td>10.16</td>\n",
       "      <td>NaN</td>\n",
       "      <td>0.0</td>\n",
       "    </tr>\n",
       "    <tr>\n",
       "      <th>1943</th>\n",
       "      <td>2016-08-07</td>\n",
       "      <td>10.16</td>\n",
       "      <td>10.16</td>\n",
       "      <td>10.16</td>\n",
       "      <td>10.16</td>\n",
       "      <td>NaN</td>\n",
       "      <td>0.0</td>\n",
       "    </tr>\n",
       "    <tr>\n",
       "      <th>1944</th>\n",
       "      <td>2016-08-06</td>\n",
       "      <td>10.16</td>\n",
       "      <td>10.16</td>\n",
       "      <td>10.16</td>\n",
       "      <td>10.16</td>\n",
       "      <td>NaN</td>\n",
       "      <td>0.0</td>\n",
       "    </tr>\n",
       "    <tr>\n",
       "      <th>1945</th>\n",
       "      <td>2016-08-05</td>\n",
       "      <td>10.16</td>\n",
       "      <td>10.16</td>\n",
       "      <td>10.16</td>\n",
       "      <td>10.16</td>\n",
       "      <td>NaN</td>\n",
       "      <td>0.0</td>\n",
       "    </tr>\n",
       "    <tr>\n",
       "      <th>1946</th>\n",
       "      <td>2016-08-04</td>\n",
       "      <td>10.16</td>\n",
       "      <td>10.16</td>\n",
       "      <td>10.16</td>\n",
       "      <td>10.16</td>\n",
       "      <td>NaN</td>\n",
       "      <td>0.0</td>\n",
       "    </tr>\n",
       "    <tr>\n",
       "      <th>1947</th>\n",
       "      <td>2016-08-03</td>\n",
       "      <td>10.16</td>\n",
       "      <td>10.16</td>\n",
       "      <td>10.16</td>\n",
       "      <td>10.16</td>\n",
       "      <td>NaN</td>\n",
       "      <td>0.0</td>\n",
       "    </tr>\n",
       "  </tbody>\n",
       "</table>\n",
       "</div>"
      ],
      "text/plain": [
       "        Tanggal  Terakhir  Pembukaan  Tertinggi  Terendah  Vol.  Perubahan%\n",
       "1467 2017-11-26    464.00     464.00     464.00    464.00   NaN         0.0\n",
       "1941 2016-08-09     10.16      10.16      10.16     10.16   NaN         0.0\n",
       "1942 2016-08-08     10.16      10.16      10.16     10.16   NaN         0.0\n",
       "1943 2016-08-07     10.16      10.16      10.16     10.16   NaN         0.0\n",
       "1944 2016-08-06     10.16      10.16      10.16     10.16   NaN         0.0\n",
       "1945 2016-08-05     10.16      10.16      10.16     10.16   NaN         0.0\n",
       "1946 2016-08-04     10.16      10.16      10.16     10.16   NaN         0.0\n",
       "1947 2016-08-03     10.16      10.16      10.16     10.16   NaN         0.0"
      ]
     },
     "execution_count": 16,
     "metadata": {},
     "output_type": "execute_result"
    }
   ],
   "source": [
    "#Melihat baris data yang missing value pada kolom Vol.\n",
    "mv_Vol = df.loc[np.where(df['Vol.'].isna())]\n",
    "mv_Vol"
   ]
  },
  {
   "cell_type": "markdown",
   "metadata": {},
   "source": [
    "Dari Data Frame diatas yang menunjukan isi dari baris data yang mengandung missing value terhadap atribut Vol. menunjukkan bahwa ada kejanggalan terhadap data. Yang mana tidak ada pergerakan data dari tanggal 3 Agustus 2016 s/d 9 Agustus 2016 dan pada tanggal 26 November 2017. Karena pola data dari 8 baris tersebut yang janggal, kami sepakat untuk tidak memuatnya kedalam dataset. Selanjutnya perlu dilakukan penghapusan 8 baris data missing value tersebut"
   ]
  },
  {
   "cell_type": "code",
   "execution_count": 17,
   "metadata": {},
   "outputs": [
    {
     "data": {
      "text/html": [
       "<div>\n",
       "<style scoped>\n",
       "    .dataframe tbody tr th:only-of-type {\n",
       "        vertical-align: middle;\n",
       "    }\n",
       "\n",
       "    .dataframe tbody tr th {\n",
       "        vertical-align: top;\n",
       "    }\n",
       "\n",
       "    .dataframe thead th {\n",
       "        text-align: right;\n",
       "    }\n",
       "</style>\n",
       "<table border=\"1\" class=\"dataframe\">\n",
       "  <thead>\n",
       "    <tr style=\"text-align: right;\">\n",
       "      <th></th>\n",
       "      <th>Tanggal</th>\n",
       "      <th>Terakhir</th>\n",
       "      <th>Pembukaan</th>\n",
       "      <th>Tertinggi</th>\n",
       "      <th>Terendah</th>\n",
       "      <th>Vol.</th>\n",
       "      <th>Perubahan%</th>\n",
       "    </tr>\n",
       "  </thead>\n",
       "  <tbody>\n",
       "    <tr>\n",
       "      <th>0</th>\n",
       "      <td>2021-12-02</td>\n",
       "      <td>4569.60</td>\n",
       "      <td>4583.28</td>\n",
       "      <td>4629.75</td>\n",
       "      <td>4454.79</td>\n",
       "      <td>617220.0</td>\n",
       "      <td>-0.0030</td>\n",
       "    </tr>\n",
       "    <tr>\n",
       "      <th>1</th>\n",
       "      <td>2021-12-01</td>\n",
       "      <td>4583.28</td>\n",
       "      <td>4628.72</td>\n",
       "      <td>4778.14</td>\n",
       "      <td>4525.33</td>\n",
       "      <td>669180.0</td>\n",
       "      <td>-0.0099</td>\n",
       "    </tr>\n",
       "    <tr>\n",
       "      <th>2</th>\n",
       "      <td>2021-11-30</td>\n",
       "      <td>4628.90</td>\n",
       "      <td>4443.22</td>\n",
       "      <td>4749.12</td>\n",
       "      <td>4349.21</td>\n",
       "      <td>973460.0</td>\n",
       "      <td>0.0418</td>\n",
       "    </tr>\n",
       "    <tr>\n",
       "      <th>3</th>\n",
       "      <td>2021-11-29</td>\n",
       "      <td>4443.22</td>\n",
       "      <td>4296.98</td>\n",
       "      <td>4456.82</td>\n",
       "      <td>4280.18</td>\n",
       "      <td>532660.0</td>\n",
       "      <td>0.0340</td>\n",
       "    </tr>\n",
       "    <tr>\n",
       "      <th>4</th>\n",
       "      <td>2021-11-28</td>\n",
       "      <td>4296.98</td>\n",
       "      <td>4095.16</td>\n",
       "      <td>4297.63</td>\n",
       "      <td>3980.24</td>\n",
       "      <td>487530.0</td>\n",
       "      <td>0.0494</td>\n",
       "    </tr>\n",
       "    <tr>\n",
       "      <th>...</th>\n",
       "      <td>...</td>\n",
       "      <td>...</td>\n",
       "      <td>...</td>\n",
       "      <td>...</td>\n",
       "      <td>...</td>\n",
       "      <td>...</td>\n",
       "      <td>...</td>\n",
       "    </tr>\n",
       "    <tr>\n",
       "      <th>2089</th>\n",
       "      <td>2016-03-14</td>\n",
       "      <td>12.50</td>\n",
       "      <td>15.07</td>\n",
       "      <td>15.07</td>\n",
       "      <td>11.40</td>\n",
       "      <td>92180.0</td>\n",
       "      <td>-0.1705</td>\n",
       "    </tr>\n",
       "    <tr>\n",
       "      <th>2090</th>\n",
       "      <td>2016-03-13</td>\n",
       "      <td>15.07</td>\n",
       "      <td>12.92</td>\n",
       "      <td>15.07</td>\n",
       "      <td>12.92</td>\n",
       "      <td>1300.0</td>\n",
       "      <td>0.1664</td>\n",
       "    </tr>\n",
       "    <tr>\n",
       "      <th>2091</th>\n",
       "      <td>2016-03-12</td>\n",
       "      <td>12.92</td>\n",
       "      <td>11.95</td>\n",
       "      <td>13.45</td>\n",
       "      <td>11.95</td>\n",
       "      <td>830.0</td>\n",
       "      <td>0.0812</td>\n",
       "    </tr>\n",
       "    <tr>\n",
       "      <th>2092</th>\n",
       "      <td>2016-03-11</td>\n",
       "      <td>11.95</td>\n",
       "      <td>11.75</td>\n",
       "      <td>11.95</td>\n",
       "      <td>11.75</td>\n",
       "      <td>180.0</td>\n",
       "      <td>0.0170</td>\n",
       "    </tr>\n",
       "    <tr>\n",
       "      <th>2093</th>\n",
       "      <td>2016-03-10</td>\n",
       "      <td>11.75</td>\n",
       "      <td>11.20</td>\n",
       "      <td>11.85</td>\n",
       "      <td>11.07</td>\n",
       "      <td>0.0</td>\n",
       "      <td>0.0491</td>\n",
       "    </tr>\n",
       "  </tbody>\n",
       "</table>\n",
       "<p>2086 rows × 7 columns</p>\n",
       "</div>"
      ],
      "text/plain": [
       "        Tanggal  Terakhir  Pembukaan  Tertinggi  Terendah      Vol.  \\\n",
       "0    2021-12-02   4569.60    4583.28    4629.75   4454.79  617220.0   \n",
       "1    2021-12-01   4583.28    4628.72    4778.14   4525.33  669180.0   \n",
       "2    2021-11-30   4628.90    4443.22    4749.12   4349.21  973460.0   \n",
       "3    2021-11-29   4443.22    4296.98    4456.82   4280.18  532660.0   \n",
       "4    2021-11-28   4296.98    4095.16    4297.63   3980.24  487530.0   \n",
       "...         ...       ...        ...        ...       ...       ...   \n",
       "2089 2016-03-14     12.50      15.07      15.07     11.40   92180.0   \n",
       "2090 2016-03-13     15.07      12.92      15.07     12.92    1300.0   \n",
       "2091 2016-03-12     12.92      11.95      13.45     11.95     830.0   \n",
       "2092 2016-03-11     11.95      11.75      11.95     11.75     180.0   \n",
       "2093 2016-03-10     11.75      11.20      11.85     11.07       0.0   \n",
       "\n",
       "      Perubahan%  \n",
       "0        -0.0030  \n",
       "1        -0.0099  \n",
       "2         0.0418  \n",
       "3         0.0340  \n",
       "4         0.0494  \n",
       "...          ...  \n",
       "2089     -0.1705  \n",
       "2090      0.1664  \n",
       "2091      0.0812  \n",
       "2092      0.0170  \n",
       "2093      0.0491  \n",
       "\n",
       "[2086 rows x 7 columns]"
      ]
     },
     "execution_count": 17,
     "metadata": {},
     "output_type": "execute_result"
    }
   ],
   "source": [
    "#Menghapus data missing value dari dataset\n",
    "df = df.dropna()\n",
    "df"
   ]
  },
  {
   "cell_type": "code",
   "execution_count": 18,
   "metadata": {},
   "outputs": [
    {
     "name": "stdout",
     "output_type": "stream",
     "text": [
      "<class 'pandas.core.frame.DataFrame'>\n",
      "Int64Index: 2086 entries, 0 to 2093\n",
      "Data columns (total 7 columns):\n",
      " #   Column      Non-Null Count  Dtype         \n",
      "---  ------      --------------  -----         \n",
      " 0   Tanggal     2086 non-null   datetime64[ns]\n",
      " 1   Terakhir    2086 non-null   float64       \n",
      " 2   Pembukaan   2086 non-null   float64       \n",
      " 3   Tertinggi   2086 non-null   float64       \n",
      " 4   Terendah    2086 non-null   float64       \n",
      " 5   Vol.        2086 non-null   float64       \n",
      " 6   Perubahan%  2086 non-null   float64       \n",
      "dtypes: datetime64[ns](1), float64(6)\n",
      "memory usage: 130.4 KB\n"
     ]
    }
   ],
   "source": [
    "df.info()"
   ]
  },
  {
   "cell_type": "code",
   "execution_count": 19,
   "metadata": {},
   "outputs": [
    {
     "data": {
      "text/html": [
       "<div>\n",
       "<style scoped>\n",
       "    .dataframe tbody tr th:only-of-type {\n",
       "        vertical-align: middle;\n",
       "    }\n",
       "\n",
       "    .dataframe tbody tr th {\n",
       "        vertical-align: top;\n",
       "    }\n",
       "\n",
       "    .dataframe thead th {\n",
       "        text-align: right;\n",
       "    }\n",
       "</style>\n",
       "<table border=\"1\" class=\"dataframe\">\n",
       "  <thead>\n",
       "    <tr style=\"text-align: right;\">\n",
       "      <th></th>\n",
       "      <th>Tanggal</th>\n",
       "      <th>Terakhir</th>\n",
       "      <th>Pembukaan</th>\n",
       "      <th>Tertinggi</th>\n",
       "      <th>Terendah</th>\n",
       "      <th>Vol.</th>\n",
       "      <th>Perubahan%</th>\n",
       "    </tr>\n",
       "  </thead>\n",
       "  <tbody>\n",
       "    <tr>\n",
       "      <th>2089</th>\n",
       "      <td>2016-03-14</td>\n",
       "      <td>12.50</td>\n",
       "      <td>15.07</td>\n",
       "      <td>15.07</td>\n",
       "      <td>11.40</td>\n",
       "      <td>92180.0</td>\n",
       "      <td>-0.1705</td>\n",
       "    </tr>\n",
       "    <tr>\n",
       "      <th>2090</th>\n",
       "      <td>2016-03-13</td>\n",
       "      <td>15.07</td>\n",
       "      <td>12.92</td>\n",
       "      <td>15.07</td>\n",
       "      <td>12.92</td>\n",
       "      <td>1300.0</td>\n",
       "      <td>0.1664</td>\n",
       "    </tr>\n",
       "    <tr>\n",
       "      <th>2091</th>\n",
       "      <td>2016-03-12</td>\n",
       "      <td>12.92</td>\n",
       "      <td>11.95</td>\n",
       "      <td>13.45</td>\n",
       "      <td>11.95</td>\n",
       "      <td>830.0</td>\n",
       "      <td>0.0812</td>\n",
       "    </tr>\n",
       "    <tr>\n",
       "      <th>2092</th>\n",
       "      <td>2016-03-11</td>\n",
       "      <td>11.95</td>\n",
       "      <td>11.75</td>\n",
       "      <td>11.95</td>\n",
       "      <td>11.75</td>\n",
       "      <td>180.0</td>\n",
       "      <td>0.0170</td>\n",
       "    </tr>\n",
       "    <tr>\n",
       "      <th>2093</th>\n",
       "      <td>2016-03-10</td>\n",
       "      <td>11.75</td>\n",
       "      <td>11.20</td>\n",
       "      <td>11.85</td>\n",
       "      <td>11.07</td>\n",
       "      <td>0.0</td>\n",
       "      <td>0.0491</td>\n",
       "    </tr>\n",
       "  </tbody>\n",
       "</table>\n",
       "</div>"
      ],
      "text/plain": [
       "        Tanggal  Terakhir  Pembukaan  Tertinggi  Terendah     Vol.  Perubahan%\n",
       "2089 2016-03-14     12.50      15.07      15.07     11.40  92180.0     -0.1705\n",
       "2090 2016-03-13     15.07      12.92      15.07     12.92   1300.0      0.1664\n",
       "2091 2016-03-12     12.92      11.95      13.45     11.95    830.0      0.0812\n",
       "2092 2016-03-11     11.95      11.75      11.95     11.75    180.0      0.0170\n",
       "2093 2016-03-10     11.75      11.20      11.85     11.07      0.0      0.0491"
      ]
     },
     "execution_count": 19,
     "metadata": {},
     "output_type": "execute_result"
    }
   ],
   "source": [
    "df.tail()"
   ]
  },
  {
   "cell_type": "code",
   "execution_count": 20,
   "metadata": {},
   "outputs": [
    {
     "name": "stdout",
     "output_type": "stream",
     "text": [
      "Jumlah dataset yang ada pada masing-masing atribut:\n"
     ]
    },
    {
     "data": {
      "text/plain": [
       "Tanggal       0\n",
       "Terakhir      0\n",
       "Pembukaan     0\n",
       "Tertinggi     0\n",
       "Terendah      0\n",
       "Vol.          0\n",
       "Perubahan%    0\n",
       "dtype: int64"
      ]
     },
     "execution_count": 20,
     "metadata": {},
     "output_type": "execute_result"
    }
   ],
   "source": [
    "#Melakukan pengecekan missing values terhadap dataset setelah dilakukan penanganan\n",
    "print('Jumlah dataset yang ada pada masing-masing atribut:')\n",
    "df.isna().sum()"
   ]
  },
  {
   "cell_type": "code",
   "execution_count": 21,
   "metadata": {},
   "outputs": [
    {
     "data": {
      "image/png": "[encoded data removed]",
      "text/plain": [
       "<Figure size 720x504 with 1 Axes>"
      ]
     },
     "metadata": {
      "needs_background": "light"
     },
     "output_type": "display_data"
    }
   ],
   "source": [
    "plt.subplots(figsize=(10,7))\n",
    "sns.boxplot(data=df).set_title(\"Ethereum\")\n",
    "plt.show()"
   ]
  },
  {
   "cell_type": "markdown",
   "metadata": {},
   "source": [
    "Berdasarkan visualisasi boxplot diatas, dapat diketahui bahwa atribut Vol. memiliki data outlier yang banyak. Hal ini disebabkan karena pergerakan Crypto currency yang fluktuatif, sehingga pola data dalam atribut Vol. dapat membentuk Outlier"
   ]
  },
  {
   "cell_type": "code",
   "execution_count": 22,
   "metadata": {},
   "outputs": [
    {
     "data": {
      "image/png": "[encoded data removed]",
      "text/plain": [
       "<Figure size 720x360 with 2 Axes>"
      ]
     },
     "metadata": {
      "needs_background": "light"
     },
     "output_type": "display_data"
    }
   ],
   "source": [
    "# mendapatkan korelasi di setiap fitur dalam dataset\n",
    "corrmat = df.corr()\n",
    "top_corr_features = corrmat.index\n",
    "plt.figure(figsize=(10,5))\n",
    "\n",
    "# plot heatmap\n",
    "h = sns.heatmap(df[top_corr_features].corr(),annot=True,cmap=\"RdYlGn\")"
   ]
  },
  {
   "cell_type": "markdown",
   "metadata": {},
   "source": [
    "* Berdasarkan visualisasi dari heatmap korelasi dataset, diperoleh bahwa atribut Vol. merupakan atribut dengan korelasi paling lemah relasinya terhadap atribut Terakhir, Pembukaan, Tertinggi, dan Terendah dengan nilai korelasi = -0.21 kemudian diikuti oleh atribut Perubahan% dengan  nilai korelasi = -0.026.\n",
    "\n",
    "* Atribut Perubahan% juga merupakan atribut dengan korelasi yang cukup lemah terhadap 5 atribut lainnya.\n",
    "\n",
    "* Sedangkan atribut Terakhir, Pembukaan, Tertinggi, dan Terendah keempatnya memiliki korelasi yang kuat terhadap satu sama lainnya. Sehingga, dapat disimpulkan bahwa untuk membangun model prediksi nantinya atribut yang direkomendasikan adalah \n",
    "\n",
    "* --> Pembukaan\n",
    "* --> Tertinggi\n",
    "* --> Terendah\n",
    "* --> Terakhir"
   ]
  },
  {
   "cell_type": "code",
   "execution_count": 23,
   "metadata": {},
   "outputs": [],
   "source": [
    "#Melihat rata-rata harga\n",
    "tahun = df['Tanggal']\n",
    "harga_tinggi = df['Tertinggi']"
   ]
  },
  {
   "cell_type": "code",
   "execution_count": 24,
   "metadata": {},
   "outputs": [
    {
     "data": {
      "image/png": "[encoded data removed]",
      "text/plain": [
       "<Figure size 1152x576 with 1 Axes>"
      ]
     },
     "metadata": {
      "needs_background": "light"
     },
     "output_type": "display_data"
    }
   ],
   "source": [
    "plt.figure(figsize=(16,8))\n",
    "plt.scatter(tahun,harga_tinggi)\n",
    "plt.plot(tahun,harga_tinggi)\n",
    "plt.xlabel('Tahun')\n",
    "plt.ylabel('Pergerakan Harga')\n",
    "plt.title('Pergerakan Harga Ethereum')\n",
    "plt.show()"
   ]
  },
  {
   "cell_type": "code",
   "execution_count": 25,
   "metadata": {},
   "outputs": [
    {
     "data": {
      "image/png": "[encoded data removed]",
      "text/plain": [
       "<Figure size 432x288 with 1 Axes>"
      ]
     },
     "metadata": {
      "needs_background": "light"
     },
     "output_type": "display_data"
    }
   ],
   "source": [
    "plt.scatter(df['Tanggal'], df['Tertinggi'])\n",
    "plt.xlabel('Tahun')\n",
    "plt.ylabel('Harga Tertinggi')\n",
    "plt.title('Scatter Plot Tertinggi vs Tanggal')\n",
    "plt.show()"
   ]
  },
  {
   "cell_type": "code",
   "execution_count": 26,
   "metadata": {},
   "outputs": [],
   "source": [
    "# Prepare data\n",
    "# Pertama, buat variabel x dan y.\n",
    "x = df['Pembukaan'].values.reshape(-1,1)\n",
    "y = df['Tertinggi'].values.reshape(-1,1)"
   ]
  },
  {
   "cell_type": "markdown",
   "metadata": {},
   "source": [
    "## Formula Regresi Linear"
   ]
  },
  {
   "cell_type": "code",
   "execution_count": 27,
   "metadata": {},
   "outputs": [
    {
     "data": {
      "image/jpeg": "[encoded data removed]",
      "text/plain": [
       "<IPython.core.display.Image object>"
      ]
     },
     "execution_count": 27,
     "metadata": {},
     "output_type": "execute_result"
    }
   ],
   "source": [
    "from IPython.display import Image\n",
    "Image(\"Rumus Regresi Linear.jpg\")"
   ]
  },
  {
   "cell_type": "markdown",
   "metadata": {},
   "source": [
    "\"Jika kita melihat formula regresi linear di atas, kita pasti ingat rumus persamaan garis yang pernah dipelajari di bangku sekolah, yaitu y = mx + c, dimana m merupakan gradien atau kemiringan garis dan c merupakan konstanta.\""
   ]
  },
  {
   "cell_type": "markdown",
   "metadata": {},
   "source": [
    "* from scratch\n",
    "* y = ax + b atau y = w1x + w0 atau y = mx + c\n",
    "* x = input\n",
    "* y = output\n",
    "* b atau w0 = intercept / bias\n",
    "* a atau w1 = slope / gradient / coefficient"
   ]
  },
  {
   "cell_type": "code",
   "execution_count": 28,
   "metadata": {},
   "outputs": [
    {
     "name": "stdout",
     "output_type": "stream",
     "text": [
      "nilai mean var x:  637.7663662511954 \n",
      "nilai mean var y:  662.3752492809195\n"
     ]
    }
   ],
   "source": [
    "x_mean = np.mean(df['Pembukaan'])\n",
    "y_mean = np.mean(df['Tertinggi'])\n",
    "print('nilai mean var x: ', x_mean,'\\n'\n",
    "      'nilai mean var y: ', y_mean)"
   ]
  },
  {
   "cell_type": "markdown",
   "metadata": {},
   "source": [
    "## Formula Correlation Coefficient"
   ]
  },
  {
   "cell_type": "code",
   "execution_count": 29,
   "metadata": {},
   "outputs": [
    {
     "data": {
      "image/jpeg": "[encoded data removed]",
      "text/plain": [
       "<IPython.core.display.Image object>"
      ]
     },
     "execution_count": 29,
     "metadata": {},
     "output_type": "execute_result"
    }
   ],
   "source": [
    "from IPython.display import Image\n",
    "Image(\"Rumus CoefisienCorelation.jpg\")"
   ]
  },
  {
   "cell_type": "code",
   "execution_count": 30,
   "metadata": {},
   "outputs": [],
   "source": [
    "#Import library Math untuk dapat menggunakan fitur perhitungan\n",
    "import math"
   ]
  },
  {
   "cell_type": "code",
   "execution_count": 31,
   "metadata": {},
   "outputs": [
    {
     "name": "stdout",
     "output_type": "stream",
     "text": [
      "Nilai Correlation Coefficient:  0.9992635206593434\n"
     ]
    }
   ],
   "source": [
    "atas = math.fsum((x - x_mean)*(y - y_mean))\n",
    "bawah = math.sqrt((sum((x - x_mean)**2)) * (sum((y - y_mean)**2)))\n",
    "correlation = atas/bawah\n",
    "print('Nilai Correlation Coefficient: ', correlation)"
   ]
  },
  {
   "cell_type": "markdown",
   "metadata": {},
   "source": [
    "## Mencari nilai theta 1 dan theta 0 dengan rumus dibawah ini"
   ]
  },
  {
   "cell_type": "code",
   "execution_count": 32,
   "metadata": {},
   "outputs": [
    {
     "data": {
      "image/jpeg": "[encoded data removed]",
      "text/plain": [
       "<IPython.core.display.Image object>"
      ]
     },
     "execution_count": 32,
     "metadata": {},
     "output_type": "execute_result"
    }
   ],
   "source": [
    "from IPython.display import Image\n",
    "Image(\"Rumus Theta.jpg\")"
   ]
  },
  {
   "cell_type": "markdown",
   "metadata": {},
   "source": [
    "### Theta 1 atau nilai slope"
   ]
  },
  {
   "cell_type": "code",
   "execution_count": 33,
   "metadata": {},
   "outputs": [
    {
     "name": "stdout",
     "output_type": "stream",
     "text": [
      "Nilai theta_1:  1.0353418500550355\n"
     ]
    }
   ],
   "source": [
    "# slope\n",
    "# Slope adalah tingkat kemiringan garis, intercept \n",
    "# adalah jarak titik y pada garis dari titik 0\n",
    "variance = math.fsum((x - x_mean)**2)\n",
    "covariance = math.fsum((x - x_mean) * (y - y_mean))\n",
    "theta_1 = covariance/variance\n",
    "print('Nilai theta_1: ',theta_1)"
   ]
  },
  {
   "cell_type": "markdown",
   "metadata": {},
   "source": [
    "### Theta 0 atau nilai intercept"
   ]
  },
  {
   "cell_type": "code",
   "execution_count": 34,
   "metadata": {},
   "outputs": [
    {
     "name": "stdout",
     "output_type": "stream",
     "text": [
      "Nilai theta_0:  2.0690397435295154\n"
     ]
    }
   ],
   "source": [
    "# intercept\n",
    "theta_0 = y_mean - (theta_1 * x_mean)\n",
    "print('Nilai theta_0: ',theta_0)"
   ]
  },
  {
   "cell_type": "markdown",
   "metadata": {},
   "source": [
    "### Maka persamaan garis : \n",
    "\n",
    "#     **y = 1.03x - 2.06**\n",
    "\n",
    "Jadi persamaan garis diatas dapat digunakan untuk melakukan prediksi apabila kita memiliki data harga Pembukaan yang baru, harga Tertinggi dapat diperkirakan dengan rumus tersebut, masukkan nilai Pembukaan baru ke x, maka perkiraan nilai y (Teringgi) akan didapat."
   ]
  },
  {
   "cell_type": "markdown",
   "metadata": {},
   "source": [
    "# Data Modeling"
   ]
  },
  {
   "cell_type": "code",
   "execution_count": 35,
   "metadata": {},
   "outputs": [],
   "source": [
    "# import Module train_test_split digunakan untuk membagi data kita menjadi training dan testing set.\n",
    "from sklearn.model_selection import train_test_split"
   ]
  },
  {
   "cell_type": "code",
   "execution_count": 36,
   "metadata": {},
   "outputs": [],
   "source": [
    "X_train,X_test,y_train,y_test = train_test_split(x, y, train_size = 0.7, test_size = 0.3, random_state = 100)"
   ]
  },
  {
   "cell_type": "markdown",
   "metadata": {},
   "source": [
    "* X_train: Untuk menampung data source yang akan dilatih.\n",
    "* X_test: Untuk menampung data target yang akan dilatih.\n",
    "* y_train: Untuk menampung data source yang akan digunakan untuk testing.\n",
    "* y_test: Untuk menampung data target yang akan digunakan untuk testing.\n",
    "\n",
    "X dan y adalah nama variabel yang digunakan saat mendefinisikan data source dan data target. Parameter *test_size* digunakan untuk mendefinisikan ukuran data testing. Dalam contoh di atas, test_size=0.2 berarti data yang digunakan sebagai data testing adalah sebesar 20% dari keseluruhan dataset.\n",
    "\n",
    "Perlu diketahui bahwa metode ini akan membagi train set dan test set secara random atau acak. Jadi, jika kita mengulang proses running, maka tentunya hasil yang didapat akan berubah-ubah. Untuk mengatasinya, kita dapat menggunakan parameter *random_state*"
   ]
  },
  {
   "cell_type": "markdown",
   "metadata": {},
   "source": [
    "##  Model Liner Regression Sederhana"
   ]
  },
  {
   "cell_type": "code",
   "execution_count": 37,
   "metadata": {},
   "outputs": [],
   "source": [
    "#Import library LinearRegression\n",
    "from sklearn.linear_model import LinearRegression"
   ]
  },
  {
   "cell_type": "code",
   "execution_count": 38,
   "metadata": {},
   "outputs": [],
   "source": [
    "#Definisi variabel object LinerRegression\n",
    "regressor = LinearRegression()"
   ]
  },
  {
   "cell_type": "code",
   "execution_count": 39,
   "metadata": {},
   "outputs": [
    {
     "data": {
      "text/plain": [
       "LinearRegression()"
      ]
     },
     "execution_count": 39,
     "metadata": {},
     "output_type": "execute_result"
    }
   ],
   "source": [
    "#Training the model menggunakan training data yang sudah displit sebelumnya.\n",
    "regressor.fit(X_train, y_train)"
   ]
  },
  {
   "cell_type": "code",
   "execution_count": 40,
   "metadata": {},
   "outputs": [
    {
     "name": "stdout",
     "output_type": "stream",
     "text": [
      "Nilai Koefisien :  1.036341074413246\n",
      "Nilai Intercept :  2.108953147465286\n"
     ]
    }
   ],
   "source": [
    "#MElihat nilai koefisien (m) dan intercept (b)\n",
    "print('Nilai Koefisien : ', regressor.coef_.item())\n",
    "print('Nilai Intercept : ', regressor.intercept_.item())"
   ]
  },
  {
   "cell_type": "markdown",
   "metadata": {},
   "source": [
    "Dari nilai m dan b diatas, kalau dimasukan ke dalam rumus persamaan menjadi:\n",
    "#     **y = 1.03x + 1.79**"
   ]
  },
  {
   "cell_type": "code",
   "execution_count": 41,
   "metadata": {},
   "outputs": [
    {
     "data": {
      "text/plain": [
       "0.9986633171237879"
      ]
     },
     "execution_count": 41,
     "metadata": {},
     "output_type": "execute_result"
    }
   ],
   "source": [
    "#Cari tahu accuracy score dari model kita menggunakan testing data yang sudah displit sebelumnya. Dan nilai korelasinya\n",
    "regressor.score(X_test,y_test)"
   ]
  },
  {
   "cell_type": "markdown",
   "metadata": {},
   "source": [
    "Model kita mendapatkan accuracy score sebesar 99.87%"
   ]
  },
  {
   "cell_type": "code",
   "execution_count": 42,
   "metadata": {},
   "outputs": [
    {
     "name": "stdout",
     "output_type": "stream",
     "text": [
      "Correlation:  0.9993314350723627\n"
     ]
    }
   ],
   "source": [
    "print('Correlation: ', math.sqrt(regressor.score(X_test,y_test)))"
   ]
  },
  {
   "cell_type": "code",
   "execution_count": 43,
   "metadata": {},
   "outputs": [
    {
     "data": {
      "text/plain": [
       "Text(0.5, 1.0, 'Plot Pembukaan vs Tertinggi')"
      ]
     },
     "execution_count": 43,
     "metadata": {},
     "output_type": "execute_result"
    },
    {
     "data": {
      "image/png": "[encoded data removed]",
      "text/plain": [
       "<Figure size 432x288 with 1 Axes>"
      ]
     },
     "metadata": {
      "needs_background": "light"
     },
     "output_type": "display_data"
    }
   ],
   "source": [
    "y_prediksi = regressor.predict(X_test)\n",
    "\n",
    "plt.scatter(X_test,y_test)\n",
    "plt.plot(X_test, y_prediksi, c='r')\n",
    "plt.xlabel('Pembukaan')\n",
    "plt.ylabel('Tertinggi')\n",
    "plt.title('Plot Pembukaan vs Tertinggi')"
   ]
  },
  {
   "cell_type": "markdown",
   "metadata": {},
   "source": [
    "Garis merah merupakan Regression Line dari model yang telah dibuat sebelumnya."
   ]
  },
  {
   "cell_type": "code",
   "execution_count": 44,
   "metadata": {},
   "outputs": [],
   "source": [
    "np_table = np.concatenate((X_test,y_test,y_prediksi), axis=1)\n",
    "new_dataframe = pd.DataFrame(data=np_table, columns=['X_test','y_test','y_predict'])"
   ]
  },
  {
   "cell_type": "code",
   "execution_count": 45,
   "metadata": {},
   "outputs": [
    {
     "data": {
      "text/html": [
       "<div>\n",
       "<style scoped>\n",
       "    .dataframe tbody tr th:only-of-type {\n",
       "        vertical-align: middle;\n",
       "    }\n",
       "\n",
       "    .dataframe tbody tr th {\n",
       "        vertical-align: top;\n",
       "    }\n",
       "\n",
       "    .dataframe thead th {\n",
       "        text-align: right;\n",
       "    }\n",
       "</style>\n",
       "<table border=\"1\" class=\"dataframe\">\n",
       "  <thead>\n",
       "    <tr style=\"text-align: right;\">\n",
       "      <th></th>\n",
       "      <th>X_test</th>\n",
       "      <th>y_test</th>\n",
       "      <th>y_predict</th>\n",
       "    </tr>\n",
       "  </thead>\n",
       "  <tbody>\n",
       "    <tr>\n",
       "      <th>0</th>\n",
       "      <td>697.06</td>\n",
       "      <td>713.80</td>\n",
       "      <td>724.500862</td>\n",
       "    </tr>\n",
       "    <tr>\n",
       "      <th>1</th>\n",
       "      <td>353.06</td>\n",
       "      <td>353.61</td>\n",
       "      <td>367.999533</td>\n",
       "    </tr>\n",
       "    <tr>\n",
       "      <th>2</th>\n",
       "      <td>11.69</td>\n",
       "      <td>11.76</td>\n",
       "      <td>14.223780</td>\n",
       "    </tr>\n",
       "    <tr>\n",
       "      <th>3</th>\n",
       "      <td>164.39</td>\n",
       "      <td>173.96</td>\n",
       "      <td>172.473062</td>\n",
       "    </tr>\n",
       "    <tr>\n",
       "      <th>4</th>\n",
       "      <td>448.73</td>\n",
       "      <td>465.09</td>\n",
       "      <td>467.146283</td>\n",
       "    </tr>\n",
       "    <tr>\n",
       "      <th>...</th>\n",
       "      <td>...</td>\n",
       "      <td>...</td>\n",
       "      <td>...</td>\n",
       "    </tr>\n",
       "    <tr>\n",
       "      <th>621</th>\n",
       "      <td>855.91</td>\n",
       "      <td>867.35</td>\n",
       "      <td>889.123642</td>\n",
       "    </tr>\n",
       "    <tr>\n",
       "      <th>622</th>\n",
       "      <td>2035.09</td>\n",
       "      <td>2042.61</td>\n",
       "      <td>2111.156310</td>\n",
       "    </tr>\n",
       "    <tr>\n",
       "      <th>623</th>\n",
       "      <td>257.00</td>\n",
       "      <td>299.89</td>\n",
       "      <td>268.448609</td>\n",
       "    </tr>\n",
       "    <tr>\n",
       "      <th>624</th>\n",
       "      <td>11.28</td>\n",
       "      <td>11.50</td>\n",
       "      <td>13.798880</td>\n",
       "    </tr>\n",
       "    <tr>\n",
       "      <th>625</th>\n",
       "      <td>415.02</td>\n",
       "      <td>453.61</td>\n",
       "      <td>432.211226</td>\n",
       "    </tr>\n",
       "  </tbody>\n",
       "</table>\n",
       "<p>626 rows × 3 columns</p>\n",
       "</div>"
      ],
      "text/plain": [
       "      X_test   y_test    y_predict\n",
       "0     697.06   713.80   724.500862\n",
       "1     353.06   353.61   367.999533\n",
       "2      11.69    11.76    14.223780\n",
       "3     164.39   173.96   172.473062\n",
       "4     448.73   465.09   467.146283\n",
       "..       ...      ...          ...\n",
       "621   855.91   867.35   889.123642\n",
       "622  2035.09  2042.61  2111.156310\n",
       "623   257.00   299.89   268.448609\n",
       "624    11.28    11.50    13.798880\n",
       "625   415.02   453.61   432.211226\n",
       "\n",
       "[626 rows x 3 columns]"
      ]
     },
     "execution_count": 45,
     "metadata": {},
     "output_type": "execute_result"
    }
   ],
   "source": [
    "new_dataframe"
   ]
  },
  {
   "cell_type": "code",
   "execution_count": 46,
   "metadata": {},
   "outputs": [
    {
     "name": "stdout",
     "output_type": "stream",
     "text": [
      "nilai prediksi harga Tertinggi dengan harga Pembukaan dengan  :  \n",
      " 4894.540441112726\n"
     ]
    }
   ],
   "source": [
    "#Prediksi harga mobil dengan enginesize 130.\n",
    "\n",
    "print('nilai prediksi harga Tertinggi dengan harga Pembukaan dengan  : ','\\n',regressor.predict([[4720.87]]).item())"
   ]
  },
  {
   "cell_type": "code",
   "execution_count": 47,
   "metadata": {},
   "outputs": [
    {
     "name": "stdout",
     "output_type": "stream",
     "text": [
      "Mean Absolute Error: 18.73498146370773\n",
      "Mean Squared Error: 1451.4662394578452\n",
      "Root Mean Squared Error: 38.098113331999066\n"
     ]
    }
   ],
   "source": [
    "from sklearn import metrics  \n",
    "from sklearn.metrics import mean_absolute_error\n",
    "\n",
    "print('Mean Absolute Error:', metrics.mean_absolute_error(y_test, y_prediksi))  \n",
    "print('Mean Squared Error:', metrics.mean_squared_error(y_test, y_prediksi))  \n",
    "print('Root Mean Squared Error:', np.sqrt(metrics.mean_squared_error(y_test, y_prediksi))) "
   ]
  },
  {
   "cell_type": "code",
   "execution_count": 48,
   "metadata": {},
   "outputs": [
    {
     "name": "stdout",
     "output_type": "stream",
     "text": [
      "R2-score: 1.00\n"
     ]
    }
   ],
   "source": [
    "#Melihat skor prediksi dengan R^2\n",
    "from sklearn.metrics import r2_score\n",
    "print(\"R2-score: %.2f\" % r2_score(y_prediksi , y_test) )"
   ]
  },
  {
   "cell_type": "code",
   "execution_count": 49,
   "metadata": {},
   "outputs": [],
   "source": [
    "def regression_results(y_true, y_pred):\n",
    "\n",
    "    # Regression metrics\n",
    "    explained_variance=metrics.explained_variance_score(y_true, y_pred)\n",
    "    mean_absolute_error=metrics.mean_absolute_error(y_true, y_pred) \n",
    "    mse=metrics.mean_squared_error(y_true, y_pred) \n",
    "    mean_squared_log_error=metrics.mean_squared_log_error(y_true, y_pred)\n",
    "    median_absolute_error=metrics.median_absolute_error(y_true, y_pred)\n",
    "    r2=metrics.r2_score(y_true, y_pred)\n",
    "\n",
    "    print('explained_variance: ', round(explained_variance,4))    \n",
    "    print('mean_squared_log_error: ', round(mean_squared_log_error,4))\n",
    "    print('r2: ', round(r2,4))\n",
    "    print('MAE: ', round(mean_absolute_error,4))\n",
    "    print('MSE: ', round(mse,4))\n",
    "    print('RMSE: ', round(np.sqrt(mse),4))"
   ]
  },
  {
   "cell_type": "code",
   "execution_count": 50,
   "metadata": {},
   "outputs": [
    {
     "name": "stdout",
     "output_type": "stream",
     "text": [
      "explained_variance:  0.9987\n",
      "mean_squared_log_error:  0.0058\n",
      "r2:  0.9987\n",
      "MAE:  18.735\n",
      "MSE:  1451.4662\n",
      "RMSE:  38.0981\n"
     ]
    }
   ],
   "source": [
    "regression_results(y_test, y_prediksi)"
   ]
  },
  {
   "cell_type": "code",
   "execution_count": 51,
   "metadata": {},
   "outputs": [
    {
     "data": {
      "image/png": "[encoded data removed]",
      "text/plain": [
       "<Figure size 432x288 with 1 Axes>"
      ]
     },
     "metadata": {
      "needs_background": "light"
     },
     "output_type": "display_data"
    }
   ],
   "source": [
    "plt.title('Comparison of Y values in test and the Predicted values')\n",
    "plt.ylabel('Test Set')\n",
    "plt.xlabel('Predicted values')\n",
    "plt.plot(y_prediksi, '.', y_test, 'x')\n",
    "plt.show()"
   ]
  },
  {
   "cell_type": "markdown",
   "metadata": {},
   "source": [
    "## Model Regresi Linear Berganda"
   ]
  },
  {
   "cell_type": "code",
   "execution_count": 52,
   "metadata": {},
   "outputs": [
    {
     "data": {
      "image/png": "[encoded data removed]",
      "text/plain": [
       "<Figure size 432x288 with 1 Axes>"
      ]
     },
     "metadata": {
      "needs_background": "light"
     },
     "output_type": "display_data"
    }
   ],
   "source": [
    "# visualisasi Pembukaan vs Tertinggi\n",
    "\n",
    "plt.scatter(df['Pembukaan'], df['Tertinggi'],  color='blue')\n",
    "plt.xlabel(\"Pembukaan\")\n",
    "plt.ylabel(\"Tertinggi\")\n",
    "plt.show()"
   ]
  },
  {
   "cell_type": "code",
   "execution_count": 53,
   "metadata": {},
   "outputs": [
    {
     "data": {
      "image/png": "[encoded data removed]",
      "text/plain": [
       "<Figure size 432x288 with 1 Axes>"
      ]
     },
     "metadata": {
      "needs_background": "light"
     },
     "output_type": "display_data"
    }
   ],
   "source": [
    "# visualisasi Pembukaan vs Terendah\n",
    "\n",
    "plt.scatter(df['Pembukaan'], df['Terendah'],  color='blue')\n",
    "plt.xlabel(\"Pembukaan\")\n",
    "plt.ylabel(\"Terendah\")\n",
    "plt.show()"
   ]
  },
  {
   "cell_type": "code",
   "execution_count": 54,
   "metadata": {},
   "outputs": [
    {
     "data": {
      "image/png": "[encoded data removed]",
      "text/plain": [
       "<Figure size 432x288 with 1 Axes>"
      ]
     },
     "metadata": {
      "needs_background": "light"
     },
     "output_type": "display_data"
    }
   ],
   "source": [
    "# visualisasi Pembukaan vs Terakhir\n",
    "\n",
    "plt.scatter(df['Pembukaan'], df['Terakhir'],  color='blue')\n",
    "plt.xlabel(\"Pembukaan\")\n",
    "plt.ylabel(\"Terakhir\")\n",
    "plt.show()"
   ]
  },
  {
   "cell_type": "code",
   "execution_count": 55,
   "metadata": {},
   "outputs": [
    {
     "data": {
      "text/html": [
       "<div>\n",
       "<style scoped>\n",
       "    .dataframe tbody tr th:only-of-type {\n",
       "        vertical-align: middle;\n",
       "    }\n",
       "\n",
       "    .dataframe tbody tr th {\n",
       "        vertical-align: top;\n",
       "    }\n",
       "\n",
       "    .dataframe thead th {\n",
       "        text-align: right;\n",
       "    }\n",
       "</style>\n",
       "<table border=\"1\" class=\"dataframe\">\n",
       "  <thead>\n",
       "    <tr style=\"text-align: right;\">\n",
       "      <th></th>\n",
       "      <th>Tertinggi</th>\n",
       "      <th>Terendah</th>\n",
       "      <th>Terakhir</th>\n",
       "      <th>Pembukaan</th>\n",
       "    </tr>\n",
       "  </thead>\n",
       "  <tbody>\n",
       "    <tr>\n",
       "      <th>0</th>\n",
       "      <td>4629.75</td>\n",
       "      <td>4454.79</td>\n",
       "      <td>4569.60</td>\n",
       "      <td>4583.28</td>\n",
       "    </tr>\n",
       "    <tr>\n",
       "      <th>1</th>\n",
       "      <td>4778.14</td>\n",
       "      <td>4525.33</td>\n",
       "      <td>4583.28</td>\n",
       "      <td>4628.72</td>\n",
       "    </tr>\n",
       "    <tr>\n",
       "      <th>2</th>\n",
       "      <td>4749.12</td>\n",
       "      <td>4349.21</td>\n",
       "      <td>4628.90</td>\n",
       "      <td>4443.22</td>\n",
       "    </tr>\n",
       "    <tr>\n",
       "      <th>3</th>\n",
       "      <td>4456.82</td>\n",
       "      <td>4280.18</td>\n",
       "      <td>4443.22</td>\n",
       "      <td>4296.98</td>\n",
       "    </tr>\n",
       "    <tr>\n",
       "      <th>4</th>\n",
       "      <td>4297.63</td>\n",
       "      <td>3980.24</td>\n",
       "      <td>4296.98</td>\n",
       "      <td>4095.16</td>\n",
       "    </tr>\n",
       "    <tr>\n",
       "      <th>5</th>\n",
       "      <td>4183.02</td>\n",
       "      <td>4029.06</td>\n",
       "      <td>4094.80</td>\n",
       "      <td>4037.06</td>\n",
       "    </tr>\n",
       "    <tr>\n",
       "      <th>6</th>\n",
       "      <td>4548.10</td>\n",
       "      <td>3917.43</td>\n",
       "      <td>4034.53</td>\n",
       "      <td>4520.30</td>\n",
       "    </tr>\n",
       "    <tr>\n",
       "      <th>7</th>\n",
       "      <td>4549.74</td>\n",
       "      <td>4248.90</td>\n",
       "      <td>4520.30</td>\n",
       "      <td>4270.73</td>\n",
       "    </tr>\n",
       "    <tr>\n",
       "      <th>8</th>\n",
       "      <td>4372.83</td>\n",
       "      <td>4172.19</td>\n",
       "      <td>4273.54</td>\n",
       "      <td>4340.23</td>\n",
       "    </tr>\n",
       "    <tr>\n",
       "      <th>9</th>\n",
       "      <td>4384.75</td>\n",
       "      <td>4064.17</td>\n",
       "      <td>4340.23</td>\n",
       "      <td>4086.73</td>\n",
       "    </tr>\n",
       "  </tbody>\n",
       "</table>\n",
       "</div>"
      ],
      "text/plain": [
       "   Tertinggi  Terendah  Terakhir  Pembukaan\n",
       "0    4629.75   4454.79   4569.60    4583.28\n",
       "1    4778.14   4525.33   4583.28    4628.72\n",
       "2    4749.12   4349.21   4628.90    4443.22\n",
       "3    4456.82   4280.18   4443.22    4296.98\n",
       "4    4297.63   3980.24   4296.98    4095.16\n",
       "5    4183.02   4029.06   4094.80    4037.06\n",
       "6    4548.10   3917.43   4034.53    4520.30\n",
       "7    4549.74   4248.90   4520.30    4270.73\n",
       "8    4372.83   4172.19   4273.54    4340.23\n",
       "9    4384.75   4064.17   4340.23    4086.73"
      ]
     },
     "execution_count": 55,
     "metadata": {},
     "output_type": "execute_result"
    }
   ],
   "source": [
    "# seleksi data dan menampilkan 10 baris\n",
    "\n",
    "cdf = df[['Tertinggi','Terendah','Terakhir','Pembukaan']]\n",
    "cdf.head(10)"
   ]
  },
  {
   "cell_type": "markdown",
   "metadata": {},
   "source": [
    "### Distribusi Data Training"
   ]
  },
  {
   "cell_type": "code",
   "execution_count": 56,
   "metadata": {},
   "outputs": [],
   "source": [
    "## membuat dataset train dan test\n",
    "\n",
    "msk = np.random.rand(len(df)) < 0.8\n",
    "train = cdf[msk]\n",
    "test = cdf[~msk]"
   ]
  },
  {
   "cell_type": "code",
   "execution_count": 57,
   "metadata": {},
   "outputs": [
    {
     "data": {
      "image/png": "[encoded data removed]",
      "text/plain": [
       "<Figure size 432x288 with 1 Axes>"
      ]
     },
     "metadata": {
      "needs_background": "light"
     },
     "output_type": "display_data"
    }
   ],
   "source": [
    "# visualisasi data train Tertinggi size vs Pembukaan\n",
    "\n",
    "plt.scatter(train['Pembukaan'], train['Tertinggi'],  color='blue')\n",
    "plt.xlabel(\"Pembukaan\")\n",
    "plt.ylabel(\"Tertinggi\")\n",
    "plt.show()"
   ]
  },
  {
   "cell_type": "code",
   "execution_count": 58,
   "metadata": {},
   "outputs": [
    {
     "data": {
      "image/png": "[encoded data removed]",
      "text/plain": [
       "<Figure size 432x288 with 1 Axes>"
      ]
     },
     "metadata": {
      "needs_background": "light"
     },
     "output_type": "display_data"
    }
   ],
   "source": [
    "# visualisasi data train Terendah size vs Pembukaan\n",
    "\n",
    "plt.scatter(train['Pembukaan'], train['Terendah'],  color='blue')\n",
    "plt.xlabel(\"Pembukaan\")\n",
    "plt.ylabel(\"Terendah\")\n",
    "plt.show()"
   ]
  },
  {
   "cell_type": "code",
   "execution_count": 59,
   "metadata": {},
   "outputs": [
    {
     "data": {
      "image/png": "[encoded data removed]",
      "text/plain": [
       "<Figure size 432x288 with 1 Axes>"
      ]
     },
     "metadata": {
      "needs_background": "light"
     },
     "output_type": "display_data"
    }
   ],
   "source": [
    "# visualisasi data train Terakhir size vs Pembukaan\n",
    "\n",
    "plt.scatter(train['Pembukaan'], train['Terakhir'],  color='blue')\n",
    "plt.xlabel(\"Pembukaan\")\n",
    "plt.ylabel(\"Terakhir\")\n",
    "plt.show()"
   ]
  },
  {
   "cell_type": "code",
   "execution_count": 60,
   "metadata": {},
   "outputs": [
    {
     "data": {
      "text/plain": [
       "LinearRegression()"
      ]
     },
     "execution_count": 60,
     "metadata": {},
     "output_type": "execute_result"
    }
   ],
   "source": [
    "from sklearn import linear_model\n",
    "regr = linear_model.LinearRegression()\n",
    "train_x = np.asanyarray(train[['Tertinggi','Terendah','Terakhir']])\n",
    "train_y = np.asanyarray(train[['Pembukaan']])\n",
    "regr.fit (train_x, train_y)"
   ]
  },
  {
   "cell_type": "code",
   "execution_count": 61,
   "metadata": {},
   "outputs": [
    {
     "name": "stdout",
     "output_type": "stream",
     "text": [
      "Coefficients:  [[ 1.08576804  0.63423402 -0.73270552]]\n",
      "Intercept:  [-0.08922726]\n"
     ]
    }
   ],
   "source": [
    "# The coefficients\n",
    "print ('Coefficients: ', regr.coef_)\n",
    "print ('Intercept: ',regr.intercept_)"
   ]
  },
  {
   "cell_type": "code",
   "execution_count": 62,
   "metadata": {},
   "outputs": [
    {
     "data": {
      "text/plain": [
       "Text(0, 0.5, 'Pembukaan')"
      ]
     },
     "execution_count": 62,
     "metadata": {},
     "output_type": "execute_result"
    },
    {
     "data": {
      "image/png": "[encoded data removed]",
      "text/plain": [
       "<Figure size 432x288 with 1 Axes>"
      ]
     },
     "metadata": {
      "needs_background": "light"
     },
     "output_type": "display_data"
    }
   ],
   "source": [
    "# visualisasi data train Engine size vs Emission dengan garis\n",
    "\n",
    "plt.scatter(train.Tertinggi, train.Pembukaan,  color='blue')\n",
    "plt.plot(train_x, regr.coef_[0][0]*train_x + regr.intercept_[0], '-r')\n",
    "plt.xlabel(\"Tertinggi\")\n",
    "plt.ylabel(\"Pembukaan\")"
   ]
  },
  {
   "cell_type": "markdown",
   "metadata": {},
   "source": [
    "#### Evaluasi\n",
    "Nilai aktual dan nilai prediksi dapat dibandingkan untuk menghitung akurasi dari model regresi. Metrik evaluasi sangat penting untuk pengembangan model karena memberikan pengetahuan untuk perbaikan model.\n",
    "\n",
    "Ada berbagai metrik untuk evaluasi model, misalnya MSE sebagai error untuk mengetahui akurasi dari model yang dibangun yang dihitung dari MSE model terhadap data pengujian: \n",
    "\n",
    "- Mean Absolute Error (MAE): Rerata dari nilai absolut dari error. MAE adalah metrik paling mudah dipahami karena hanya rata-rata dari error.\n",
    "- Mean Squared Error (MSE): adalah rerata dari error dikuadratkan. MSE lebih populer dibanding MAE karena fokus pada error yang besar karena dikuadratkan sehingga berdampak lebih besar terhadap error yang lebih besar dibandingkan error yang lebih kecil.\n",
    "- Root Mean Squared Error (RMSE).\n",
    "- R-squared bukan error namun metrik yang populer yang merepresentasikan sejauh mana data cocok dengan garis regresi yang didapatkan. Semakin besar R-squared akan semaki baik pencocokan garis terhadap data. Nilai terbaik adalah 1.0 dan dapat bernilai negatif.\n"
   ]
  },
  {
   "cell_type": "code",
   "execution_count": 63,
   "metadata": {},
   "outputs": [
    {
     "name": "stdout",
     "output_type": "stream",
     "text": [
      "Mean absolute error: 11.64\n",
      "Residual sum of squares (MSE): 672.02\n",
      "R2-score: 0.9991\n"
     ]
    }
   ],
   "source": [
    "from sklearn.metrics import r2_score\n",
    "\n",
    "test_x = np.asanyarray(test[['Tertinggi','Terendah','Terakhir']])\n",
    "test_y = np.asanyarray(test[['Pembukaan']])\n",
    "test_y_ = regr.predict(test_x)\n",
    "\n",
    "print(\"Mean absolute error: %.2f\" % np.mean(np.absolute(test_y_ - test_y)))\n",
    "print(\"Residual sum of squares (MSE): %.2f\" % np.mean((test_y_ - test_y) ** 2))\n",
    "print(\"R2-score: %.4f\" % r2_score(test_y_ , test_y))"
   ]
  },
  {
   "cell_type": "markdown",
   "metadata": {},
   "source": [
    "===================================================="
   ]
  },
  {
   "cell_type": "markdown",
   "metadata": {},
   "source": [
    "### Model Support Vector Regression"
   ]
  },
  {
   "cell_type": "code",
   "execution_count": 64,
   "metadata": {},
   "outputs": [],
   "source": [
    "# Mengambil \"Tertinggi\" sebagai variabel independen (regressor)\n",
    "X1 = cdf.iloc[:, 0].values\n",
    "# Mengambil \"Pembukaan\" sebagai variabel dependen\n",
    "y1 = cdf.iloc[:, 3].values\n",
    "# Reshape data karena hanya menggunakan satu fitur \"Engine Size\"\n",
    "X1 = X1.reshape(-1,1)\n",
    "# Reshape data karena hanya satu fitur\n",
    "y1 = y1.reshape(-1,1)"
   ]
  },
  {
   "cell_type": "code",
   "execution_count": 65,
   "metadata": {},
   "outputs": [],
   "source": [
    "# Splitting the dataset into the Training set and Test set\n",
    "from sklearn.model_selection import train_test_split\n",
    "X_train1, X_test1, y_train1, y_test1 = train_test_split(X1, y1, test_size = 0.2, random_state = 0)"
   ]
  },
  {
   "cell_type": "code",
   "execution_count": 66,
   "metadata": {},
   "outputs": [],
   "source": [
    "# Feature Scaling\n",
    "from sklearn.preprocessing import StandardScaler\n",
    "sc_X = StandardScaler()\n",
    "sc_y = StandardScaler()\n",
    "X1 = sc_X.fit_transform(X1)\n",
    "y1 = sc_y.fit_transform(y1)"
   ]
  },
  {
   "cell_type": "code",
   "execution_count": 67,
   "metadata": {},
   "outputs": [
    {
     "data": {
      "text/plain": [
       "SVR(kernel='linear')"
      ]
     },
     "execution_count": 67,
     "metadata": {},
     "output_type": "execute_result"
    }
   ],
   "source": [
    "# Fitting SVR to the dataset\n",
    "from sklearn.svm import SVR\n",
    "regressor1 = SVR(kernel = 'linear')\n",
    "#linear = Linear Kernel\n",
    "regressor1.fit(X1, y1)"
   ]
  },
  {
   "cell_type": "code",
   "execution_count": 69,
   "metadata": {},
   "outputs": [
    {
     "name": "stdout",
     "output_type": "stream",
     "text": [
      "2077.9596267127213\n"
     ]
    }
   ],
   "source": [
    "# Predicting a new result\n",
    "\n",
    "y_pred = regressor.predict(sc_X.transform(np.array([[5.4]])))\n",
    "#To transform 5.4 to the scaled X value, we first need to convert it into the array form\n",
    "#Since the transform method of StandardScaler Library only accepts arrays\n",
    "\n",
    "y_pred = sc_y.inverse_transform(y_pred)\n",
    "#Now the prediction gives us the scaled value of y\n",
    "#Thus we need inverse transformation of the scaled value for the real results\n",
    "\n",
    "print(y_pred.item())"
   ]
  },
  {
   "cell_type": "code",
   "execution_count": 70,
   "metadata": {},
   "outputs": [
    {
     "data": {
      "image/png": "[encoded data removed]",
      "text/plain": [
       "<Figure size 432x288 with 1 Axes>"
      ]
     },
     "metadata": {
      "needs_background": "light"
     },
     "output_type": "display_data"
    }
   ],
   "source": [
    "# Visualising the SVR results\n",
    "plt.scatter(X1, y1, color = 'blue')\n",
    "plt.plot(X1, regressor1.predict(X1), color = 'red')\n",
    "plt.title('Dataset Harga Pembukaan')\n",
    "plt.xlabel('Tertinggi')\n",
    "plt.ylabel('Pembukaan')\n",
    "plt.show()"
   ]
  },
  {
   "cell_type": "code",
   "execution_count": 71,
   "metadata": {},
   "outputs": [
    {
     "data": {
      "image/png": "[encoded data removed]",
      "text/plain": [
       "<Figure size 432x288 with 1 Axes>"
      ]
     },
     "metadata": {
      "needs_background": "light"
     },
     "output_type": "display_data"
    }
   ],
   "source": [
    "# Visualising the SVR results\n",
    "plt.scatter(sc_X.inverse_transform(X1), sc_y.inverse_transform(y1), color = 'blue')\n",
    "plt.plot(sc_X.inverse_transform(X1), sc_y.inverse_transform(regressor.predict(X1)), color = 'red')\n",
    "plt.title('Dataset Harga Pembukaan')\n",
    "plt.xlabel('Tertinggi')\n",
    "plt.ylabel('Pembukaan')\n",
    "plt.show()"
   ]
  },
  {
   "cell_type": "code",
   "execution_count": 72,
   "metadata": {},
   "outputs": [
    {
     "name": "stdout",
     "output_type": "stream",
     "text": [
      "Mean absolute error: 2097.32\n",
      "Residual sum of squares (MSE): 4401559.68\n",
      "R2-score: -3.14\n"
     ]
    }
   ],
   "source": [
    "from sklearn.metrics import r2_score\n",
    "\n",
    "test_x = np.asanyarray(cdf[['Tertinggi']])\n",
    "test_y = np.asanyarray(cdf[['Pembukaan']])\n",
    "test_y_ = sc_y.inverse_transform(regressor.predict(sc_X.transform(test_x)))\n",
    "\n",
    "print(\"Mean absolute error: %.2f\" % np.mean(np.absolute(test_y_ - test_y)))\n",
    "print(\"Residual sum of squares (MSE): %.2f\" % np.mean((test_y_ - test_y) ** 2))\n",
    "print(\"R2-score: %.2f\" % r2_score(test_y_ , test_y) )"
   ]
  },
  {
   "cell_type": "code",
   "execution_count": null,
   "metadata": {},
   "outputs": [],
   "source": []
  },
  {
   "cell_type": "markdown",
   "metadata": {},
   "source": [
    "## Build Model - RNN"
   ]
  },
  {
   "cell_type": "code",
   "execution_count": null,
   "metadata": {},
   "outputs": [],
   "source": [
    "# Import library untuk membangun model RNN\n",
    "from keras.layers import Dense, Dropout,SimpleRNN\n",
    "from keras.models import Sequential\n",
    "from sklearn.preprocessing import MinMaxScaler"
   ]
  },
  {
   "cell_type": "code",
   "execution_count": null,
   "metadata": {},
   "outputs": [],
   "source": [
    "hargaTinggi = df['Tertinggi'].values.reshape(-1,1)\n",
    "hargaTinggi"
   ]
  },
  {
   "cell_type": "code",
   "execution_count": null,
   "metadata": {},
   "outputs": [],
   "source": [
    "Tahun = df['Tanggal'].values.reshape(-1,1)\n",
    "Tahun"
   ]
  },
  {
   "cell_type": "code",
   "execution_count": null,
   "metadata": {},
   "outputs": [],
   "source": [
    "# Visualisasi data harga Teringgi\n",
    "plt.figure(figsize=(14,10))                 \n",
    "plt.plot(Tahun,hargaTinggi, c=\"red\")\n",
    "plt.title(\"Pergerakan Harga Tertinggi Ethereum\",fontsize=16)\n",
    "plt.xlabel(\"Tahun\",fontsize=16)\n",
    "plt.ylabel(\"Harga Tertinggi\",fontsize=16)\n",
    "plt.grid()\n",
    "plt.show()"
   ]
  },
  {
   "cell_type": "code",
   "execution_count": null,
   "metadata": {},
   "outputs": [],
   "source": [
    "# Menskalakan data antara 1 dan 0 (scaling) pada low data\n",
    "scaler = MinMaxScaler(feature_range=(0,1))           \n",
    "tertinggi_scaled = scaler.fit_transform(hargaTinggi)"
   ]
  },
  {
   "cell_type": "code",
   "execution_count": null,
   "metadata": {},
   "outputs": [],
   "source": [
    "# definisikan variabel step dan train \n",
    "\n",
    "step_size = 85                     \n",
    "\n",
    "train_x = []\n",
    "train_y = []"
   ]
  },
  {
   "cell_type": "code",
   "execution_count": null,
   "metadata": {},
   "outputs": [],
   "source": [
    "# membuat fitur dan lists label\n",
    "\n",
    "for i in range(step_size, 2085):                \n",
    "    train_x.append(tertinggi_scaled[i-step_size:i,0])\n",
    "    train_y.append(tertinggi_scaled[i,0])"
   ]
  },
  {
   "cell_type": "code",
   "execution_count": null,
   "metadata": {},
   "outputs": [],
   "source": [
    "# mengonversi list yang telah dibuat sebelumnya ke array\n",
    "\n",
    "train_x = np.array(train_x)                   \n",
    "train_y = np.array(train_y)"
   ]
  },
  {
   "cell_type": "code",
   "execution_count": null,
   "metadata": {},
   "outputs": [],
   "source": [
    "# cek dimensi data dengan function .shape\n",
    "\n",
    "print(train_x.shape)                               "
   ]
  },
  {
   "cell_type": "code",
   "execution_count": null,
   "metadata": {},
   "outputs": [],
   "source": [
    "# 498 hari terakhir akan digunakan dalam pengujian\n",
    "# 2500 hari pertama akan digunakan dalam pelatihan\n",
    "\n",
    "test_x  = train_x[1600:]            \n",
    "train_x = train_x[:1600]          \n",
    "test_y = train_y[1600:]  \n",
    "train_y = train_y[:1600]"
   ]
  },
  {
   "cell_type": "code",
   "execution_count": null,
   "metadata": {},
   "outputs": [],
   "source": [
    "# reshape data untuk dimasukkan kedalam Keras model\n",
    "\n",
    "train_x = np.reshape(train_x, (1600, step_size, 1))           \n",
    "test_x = np.reshape(test_x, (400, step_size, 1))"
   ]
  },
  {
   "cell_type": "code",
   "execution_count": null,
   "metadata": {},
   "outputs": [],
   "source": [
    "# buat varibel penampung model RNN\n",
    "rnn_model = Sequential()"
   ]
  },
  {
   "cell_type": "code",
   "execution_count": null,
   "metadata": {},
   "outputs": [],
   "source": [
    "# Output dari SimpleRNN akan menjadi bentuk tensor 2D (batch_size, 40) dengan Dropout sebesar 0.15\n",
    "\n",
    "rnn_model.add(SimpleRNN(40, activation=\"tanh\", return_sequences=True, input_shape=(train_x.shape[1], 1)))\n",
    "rnn_model.add(Dropout(0.15))\n",
    "\n",
    "rnn_model.add(SimpleRNN(40, activation=\"tanh\", return_sequences=True))\n",
    "rnn_model.add(Dropout(0.15))\n",
    "\n",
    "rnn_model.add(SimpleRNN(40, activation=\"tanh\", return_sequences=False))\n",
    "rnn_model.add(Dropout(0.15))\n",
    "\n",
    "# Add a Dense layer with 1 units.\n",
    "rnn_model.add(Dense(1))"
   ]
  },
  {
   "cell_type": "code",
   "execution_count": null,
   "metadata": {},
   "outputs": [],
   "source": [
    "# menambahkan loss function kedalam model RNN dengan tipe MSE\n",
    "\n",
    "rnn_model.compile(optimizer=\"adam\", loss=\"MSE\")"
   ]
  },
  {
   "cell_type": "code",
   "execution_count": null,
   "metadata": {},
   "outputs": [],
   "source": [
    "# fit the model RNN, dengan epoch 20 dan batch size 25\n",
    "\n",
    "#rnn_model.fit(X_train, y_train, epochs=20, batch_size=25)"
   ]
  },
  {
   "cell_type": "code",
   "execution_count": null,
   "metadata": {},
   "outputs": [],
   "source": [
    "# Prediksi Model RNN\n",
    "rnn_predictions = rnn_model.predict(test_x)\n",
    "\n",
    "rnn_score = r2_score(test_y, rnn_predictions)"
   ]
  },
  {
   "cell_type": "code",
   "execution_count": null,
   "metadata": {},
   "outputs": [],
   "source": [
    "rnn_score"
   ]
  },
  {
   "cell_type": "code",
   "execution_count": null,
   "metadata": {},
   "outputs": [],
   "source": []
  },
  {
   "cell_type": "code",
   "execution_count": null,
   "metadata": {},
   "outputs": [],
   "source": []
  },
  {
   "cell_type": "code",
   "execution_count": null,
   "metadata": {},
   "outputs": [],
   "source": []
  },
  {
   "cell_type": "code",
   "execution_count": null,
   "metadata": {},
   "outputs": [],
   "source": []
  },
  {
   "cell_type": "markdown",
   "metadata": {},
   "source": [
    "## Build Model - LSTM"
   ]
  },
  {
   "cell_type": "code",
   "execution_count": null,
   "metadata": {},
   "outputs": [],
   "source": [
    "# import library for build model \n",
    "from keras.layers import LSTM"
   ]
  },
  {
   "cell_type": "code",
   "execution_count": null,
   "metadata": {},
   "outputs": [],
   "source": [
    "# buat varibel penampung model LSTM\n",
    "lstm_model = Sequential()"
   ]
  },
  {
   "cell_type": "code",
   "execution_count": null,
   "metadata": {},
   "outputs": [],
   "source": [
    "# Add a LSTM layer with 40 internal units. dengan Dropout sebesar 0.15\n",
    "\n",
    "lstm_model.add(LSTM(40,activation=\"tanh\",return_sequences=True, input_shape=(train_x.shape[1],1)))\n",
    "lstm_model.add(Dropout(0.15))\n",
    "\n",
    "lstm_model.add(LSTM(40,activation=\"tanh\",return_sequences=True))\n",
    "lstm_model.add(Dropout(0.15))\n",
    "\n",
    "lstm_model.add(LSTM(40,activation=\"tanh\",return_sequences=False))\n",
    "lstm_model.add(Dropout(0.15))\n",
    "\n",
    "# Add a Dense layer with 1 units.\n",
    "lstm_model.add(Dense(1))"
   ]
  },
  {
   "cell_type": "code",
   "execution_count": null,
   "metadata": {},
   "outputs": [],
   "source": [
    "# menambahkan loss function kedalam model lstm dengan tipe MSE\n",
    "\n",
    "lstm_model.compile(optimizer=\"adam\",loss=\"MSE\")"
   ]
  },
  {
   "cell_type": "code",
   "execution_count": null,
   "metadata": {},
   "outputs": [],
   "source": [
    "# fit lstm model, dengan epoch 20 dan batch size 25\n",
    "\n",
    "lstm_model.fit(train_x,train_y,epochs=20,batch_size=25)"
   ]
  },
  {
   "cell_type": "code",
   "execution_count": null,
   "metadata": {
    "scrolled": false
   },
   "outputs": [],
   "source": [
    "# Prediksi Model LSTM\n",
    "lstm_predictions = lstm_model.predict(test_x)"
   ]
  },
  {
   "cell_type": "code",
   "execution_count": null,
   "metadata": {},
   "outputs": [],
   "source": [
    "lstm_predictions"
   ]
  },
  {
   "cell_type": "code",
   "execution_count": null,
   "metadata": {},
   "outputs": [],
   "source": [
    "lstm_score = r2_score(test_y,lstm_predictions)\n",
    "lstm_score"
   ]
  },
  {
   "cell_type": "code",
   "execution_count": null,
   "metadata": {},
   "outputs": [],
   "source": [
    "plt.figure(figsize=(16,12))\n",
    "\n",
    "plt.plot(test_y, c=\"blue\",linewidth=2, label=\"original\")\n",
    "plt.plot(lstm_predictions, c=\"green\",linewidth=2, label=\"LSTM\")\n",
    "#plt.plot(rnn_predictions, c=\"red\",linewidth=2, label=\"RNN\")\n",
    "plt.legend()\n",
    "plt.title(\"PERBANDINGAN\",fontsize=20)\n",
    "plt.grid()\n",
    "plt.show()"
   ]
  },
  {
   "cell_type": "code",
   "execution_count": null,
   "metadata": {},
   "outputs": [],
   "source": []
  },
  {
   "cell_type": "code",
   "execution_count": null,
   "metadata": {},
   "outputs": [],
   "source": []
  }
 ],
 "metadata": {
  "kernelspec": {
   "display_name": "Python 3",
   "language": "python",
   "name": "python3"
  },
  "language_info": {
   "codemirror_mode": {
    "name": "ipython",
    "version": 3
   },
   "file_extension": ".py",
   "mimetype": "text/x-python",
   "name": "python",
   "nbconvert_exporter": "python",
   "pygments_lexer": "ipython3",
   "version": "3.7.6"
  }
 },
 "nbformat": 4,
 "nbformat_minor": 4
}
